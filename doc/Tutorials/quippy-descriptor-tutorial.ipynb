{
 "cells": [
  {
   "cell_type": "markdown",
   "metadata": {},
   "source": [
    "# Using Quippy to compute descriptors of atomic environments\n",
    "\n",
    "This tutorial shows how to use quippy to calculate various descriptors for a given atomic structure, contained in an Atoms object."
   ]
  },
  {
   "cell_type": "code",
   "execution_count": 1,
   "metadata": {
    "collapsed": true
   },
   "outputs": [],
   "source": [
    "import quippy"
   ]
  },
  {
   "cell_type": "markdown",
   "metadata": {},
   "source": [
    "At the moment, the pythonic wrapper around the descriptors fortran module still needs to be imported explicitly (hopefully this will be an invisible wrapper in the future, so that you can just do `from quippy import descriptors`)."
   ]
  },
  {
   "cell_type": "code",
   "execution_count": 2,
   "metadata": {
    "collapsed": true
   },
   "outputs": [],
   "source": [
    "from quippy import descriptors"
   ]
  },
  {
   "cell_type": "markdown",
   "metadata": {},
   "source": [
    "Create a configuration:"
   ]
  },
  {
   "cell_type": "code",
   "execution_count": 29,
   "metadata": {},
   "outputs": [
    {
     "data": {
      "text/plain": [
       "array([[ 0.   ,  0.   ,  0.   ],\n",
       "       [ 0.875,  0.875,  0.875],\n",
       "       [ 1.75 ,  1.75 ,  0.   ],\n",
       "       [ 2.625,  2.625,  0.875],\n",
       "       [ 1.75 ,  0.   ,  1.75 ],\n",
       "       [ 2.625,  0.875,  2.625],\n",
       "       [ 0.   ,  1.75 ,  1.75 ],\n",
       "       [ 0.875,  2.625,  2.625]])"
      ]
     },
     "execution_count": 29,
     "metadata": {},
     "output_type": "execute_result"
    }
   ],
   "source": [
    "at = quippy.diamond(3.5)\n",
    "at.Z[:] = 6\n",
    "at.positions"
   ]
  },
  {
   "cell_type": "markdown",
   "metadata": {},
   "source": [
    "All descriptors are instantiated by a call to `Descriptor()`, which takes the descriptor initialisation string as its only argument. For a list of available descriptors and their parameters, see the following list, auto-generated using the following command: ```quip descriptor_str=\"--help\"``` \n",
    "\n",
    "bispectrum_so4 \n",
    "bispectrum_so3\n",
    "behler\n",
    "distance_2b\n",
    "coordination\n",
    "angle_3b\n",
    "co_angle_3b\n",
    "co_distance_2b\n",
    "cosnx\n",
    "trihis\n",
    "water_monomer\n",
    "water_dimer\n",
    "A2_dimer\n",
    "AB_dimer\n",
    "bond_real_space\n",
    "atom_real_space\n",
    "power_so3\n",
    "power_so4\n",
    "soap\n",
    "AN_monomer\n",
    "general_monomer\n",
    "general_dimer\n",
    "general_trimer\n",
    "rdf\n",
    "as_distance_2b\n",
    "molecule_lo_d\n",
    "alex\n",
    "com_dimer\n",
    "distance_Nb\n"
   ]
  },
  {
   "cell_type": "markdown",
   "metadata": {},
   "source": [
    "## A simple descriptor: pairwise distances"
   ]
  },
  {
   "cell_type": "markdown",
   "metadata": {},
   "source": [
    "Here we use a simple pair distance between carbon atoms, with a cutoff of 1.5 Angstrom. There are several descriptors that can do this, one is ``distance_2b``, which takes a cutoff argument, and two Z values to specify the atom types. Alternatively, the ``distance_Nb`` descriptor could also do this, with ``order=2``, and it takes a string of Zs to specify the atom types. This is more general, ``order=3`` is a triangle-like three-body descriptor of the three sides of a triangle of 3 atoms. "
   ]
  },
  {
   "cell_type": "code",
   "execution_count": 34,
   "metadata": {},
   "outputs": [],
   "source": [
    "desc = descriptors.Descriptor(\"distance_2b Z1=6 Z2=6 cutoff=4\")"
   ]
  },
  {
   "cell_type": "markdown",
   "metadata": {},
   "source": [
    "The descriptor dimension is the length of the descriptor vector. For the scalar distance this is 1."
   ]
  },
  {
   "cell_type": "code",
   "execution_count": 35,
   "metadata": {},
   "outputs": [
    {
     "data": {
      "text/plain": [
       "1"
      ]
     },
     "execution_count": 35,
     "metadata": {},
     "output_type": "execute_result"
    }
   ],
   "source": [
    "desc.n_dim # number of dimensions"
   ]
  },
  {
   "cell_type": "markdown",
   "metadata": {},
   "source": [
    "This descriptor is very simple: it is scalar (dimension 1), and hence only has a single permutation."
   ]
  },
  {
   "cell_type": "code",
   "execution_count": 36,
   "metadata": {},
   "outputs": [
    {
     "data": {
      "text/plain": [
       "1"
      ]
     },
     "execution_count": 36,
     "metadata": {},
     "output_type": "execute_result"
    }
   ],
   "source": [
    "desc.n_perm # number of permutations"
   ]
  },
  {
   "cell_type": "code",
   "execution_count": 37,
   "metadata": {},
   "outputs": [
    {
     "data": {
      "text/plain": [
       "array([[1]], dtype=int32)"
      ]
     },
     "execution_count": 37,
     "metadata": {},
     "output_type": "execute_result"
    }
   ],
   "source": [
    "desc.permutations() # array of permutation arrays"
   ]
  },
  {
   "cell_type": "markdown",
   "metadata": {},
   "source": [
    "Many descriptors rely on the neighbour connectivity, so we need to call `calc_connect`, after setting the Atoms cutoff with a skin of 1 A:"
   ]
  },
  {
   "cell_type": "code",
   "execution_count": 38,
   "metadata": {
    "collapsed": true
   },
   "outputs": [],
   "source": [
    "at.set_cutoff(desc.cutoff()+1.0)\n",
    "at.calc_connect()"
   ]
  },
  {
   "cell_type": "markdown",
   "metadata": {},
   "source": [
    "We can now calculate how many instances of this descriptor are found in an `Atoms` (or `ASEAtoms`) object:"
   ]
  },
  {
   "cell_type": "code",
   "execution_count": 39,
   "metadata": {},
   "outputs": [
    {
     "data": {
      "text/plain": [
       "368"
      ]
     },
     "execution_count": 39,
     "metadata": {},
     "output_type": "execute_result"
    }
   ],
   "source": [
    "desc.count(at)"
   ]
  },
  {
   "cell_type": "markdown",
   "metadata": {},
   "source": [
    "This also works transparently for iterables (such as lists), returning a list of the counts."
   ]
  },
  {
   "cell_type": "markdown",
   "metadata": {},
   "source": [
    "We can also calculate the actual descriptor values -- in this case, the list of pairwise distances:"
   ]
  },
  {
   "cell_type": "code",
   "execution_count": 40,
   "metadata": {},
   "outputs": [
    {
     "data": {
      "text/plain": [
       "{'cutoff': array([ 0.30420743,  0.30420743,  1.        ,  1.        ,  1.        ,\n",
       "         0.30420743,  0.30420743,  0.30420743,  1.        ,  1.        ,\n",
       "         1.        ,  0.30420743,  1.        ,  1.        ,  1.        ,\n",
       "         1.        ,  1.        ,  1.        ,  1.        ,  1.        ,\n",
       "         1.        ,  1.        ,  1.        ,  1.        ,  1.        ,\n",
       "         1.        ,  1.        ,  0.30420743,  1.        ,  1.        ,\n",
       "         1.        ,  1.        ,  1.        ,  0.30420743,  1.        ,\n",
       "         0.30420743,  0.30420743,  1.        ,  1.        ,  1.        ,\n",
       "         1.        ,  1.        ,  0.30420743,  1.        ,  0.30420743,\n",
       "         1.        ,  0.30420743,  0.30420743,  1.        ,  0.30420743,\n",
       "         1.        ,  1.        ,  1.        ,  1.        ,  1.        ,\n",
       "         1.        ,  1.        ,  0.30420743,  1.        ,  0.30420743,\n",
       "         1.        ,  0.30420743,  1.        ,  1.        ,  1.        ,\n",
       "         1.        ,  1.        ,  1.        ,  1.        ,  1.        ,\n",
       "         1.        ,  1.        ,  0.30420743,  0.30420743,  1.        ,\n",
       "         1.        ,  1.        ,  1.        ,  1.        ,  1.        ,\n",
       "         1.        ,  0.30420743,  1.        ,  1.        ,  0.30420743,\n",
       "         1.        ,  1.        ,  0.30420743,  0.30420743,  1.        ,\n",
       "         1.        ,  1.        ,  0.30420743,  1.        ,  1.        ,\n",
       "         1.        ,  0.30420743,  0.30420743,  1.        ,  1.        ,\n",
       "         1.        ,  1.        ,  1.        ,  0.30420743,  0.30420743,\n",
       "         1.        ,  1.        ,  1.        ,  1.        ,  0.30420743,\n",
       "         0.30420743,  1.        ,  1.        ,  1.        ,  1.        ,\n",
       "         1.        ,  1.        ,  0.30420743,  1.        ,  1.        ,\n",
       "         1.        ,  1.        ,  1.        ,  1.        ,  1.        ,\n",
       "         1.        ,  1.        ,  0.30420743,  0.30420743,  1.        ,\n",
       "         1.        ,  1.        ,  1.        ,  0.30420743,  1.        ,\n",
       "         0.30420743,  1.        ,  1.        ,  0.30420743,  0.30420743,\n",
       "         1.        ,  0.30420743,  1.        ,  1.        ,  1.        ,\n",
       "         1.        ,  1.        ,  1.        ,  1.        ,  1.        ,\n",
       "         0.30420743,  0.30420743,  1.        ,  1.        ,  1.        ,\n",
       "         0.30420743,  1.        ,  1.        ,  0.30420743,  1.        ,\n",
       "         1.        ,  0.30420743,  1.        ,  1.        ,  1.        ,\n",
       "         1.        ,  1.        ,  0.30420743,  1.        ,  0.30420743,\n",
       "         1.        ,  1.        ,  1.        ,  0.30420743,  1.        ,\n",
       "         1.        ,  1.        ,  1.        ,  1.        ,  1.        ,\n",
       "         1.        ,  1.        ,  0.30420743,  1.        ,  0.30420743,\n",
       "         1.        ,  0.30420743,  1.        ,  0.30420743,  1.        ,\n",
       "         1.        ,  1.        ,  1.        ,  1.        ,  1.        ,\n",
       "         0.30420743,  1.        ,  0.30420743,  1.        ,  1.        ,\n",
       "         0.30420743,  1.        ,  1.        ,  1.        ,  1.        ,\n",
       "         1.        ,  0.30420743,  1.        ,  0.30420743,  0.30420743,\n",
       "         1.        ,  1.        ,  0.30420743,  0.30420743,  1.        ,\n",
       "         1.        ,  1.        ,  1.        ,  1.        ,  1.        ,\n",
       "         1.        ,  1.        ,  1.        ,  1.        ,  1.        ,\n",
       "         1.        ,  0.30420743,  1.        ,  1.        ,  1.        ,\n",
       "         0.30420743,  0.30420743,  1.        ,  0.30420743,  1.        ,\n",
       "         1.        ,  1.        ,  1.        ,  1.        ,  1.        ,\n",
       "         1.        ,  1.        ,  1.        ,  0.30420743,  1.        ,\n",
       "         0.30420743,  1.        ,  0.30420743,  1.        ,  1.        ,\n",
       "         1.        ,  1.        ,  1.        ,  0.30420743,  1.        ,\n",
       "         1.        ,  0.30420743,  1.        ,  0.30420743,  1.        ,\n",
       "         1.        ,  1.        ,  0.30420743,  1.        ,  1.        ,\n",
       "         1.        ,  1.        ,  1.        ,  1.        ,  1.        ,\n",
       "         1.        ,  1.        ,  0.30420743,  1.        ,  0.30420743,\n",
       "         1.        ,  0.30420743,  1.        ,  1.        ,  1.        ,\n",
       "         0.30420743,  0.30420743,  1.        ,  1.        ,  1.        ,\n",
       "         1.        ,  1.        ,  0.30420743,  1.        ,  0.30420743,\n",
       "         1.        ,  1.        ,  0.30420743,  1.        ,  1.        ,\n",
       "         1.        ,  1.        ,  1.        ,  0.30420743,  1.        ,\n",
       "         0.30420743,  1.        ,  0.30420743,  1.        ,  1.        ,\n",
       "         1.        ,  1.        ,  1.        ,  1.        ,  0.30420743,\n",
       "         0.30420743,  1.        ,  1.        ,  0.30420743,  1.        ,\n",
       "         1.        ,  1.        ,  1.        ,  1.        ,  1.        ,\n",
       "         1.        ,  1.        ,  0.30420743,  0.30420743,  1.        ,\n",
       "         0.30420743,  1.        ,  1.        ,  1.        ,  1.        ,\n",
       "         1.        ,  1.        ,  1.        ,  1.        ,  0.30420743,\n",
       "         0.30420743,  1.        ,  1.        ,  1.        ,  0.30420743,\n",
       "         1.        ,  1.        ,  1.        ,  1.        ,  1.        ,\n",
       "         0.30420743,  1.        ,  1.        ,  0.30420743,  1.        ,\n",
       "         0.30420743,  1.        ,  1.        ,  1.        ,  1.        ,\n",
       "         1.        ,  1.        ,  0.30420743,  1.        ,  0.30420743,\n",
       "         1.        ,  0.30420743,  1.        ,  1.        ,  1.        ,\n",
       "         1.        ,  1.        ,  1.        ]),\n",
       " 'descriptor': array([[ 3.81403658],\n",
       "        [ 3.81403658],\n",
       "        [ 2.90204669],\n",
       "        [ 2.90204669],\n",
       "        [ 3.5       ],\n",
       "        [ 3.81403658],\n",
       "        [ 3.81403658],\n",
       "        [ 3.81403658],\n",
       "        [ 2.90204669],\n",
       "        [ 2.90204669],\n",
       "        [ 3.5       ],\n",
       "        [ 3.81403658],\n",
       "        [ 2.90204669],\n",
       "        [ 2.90204669],\n",
       "        [ 3.5       ],\n",
       "        [ 1.51554446],\n",
       "        [ 2.47487373],\n",
       "        [ 1.51554446],\n",
       "        [ 2.47487373],\n",
       "        [ 1.51554446],\n",
       "        [ 2.47487373],\n",
       "        [ 1.51554446],\n",
       "        [ 2.90204669],\n",
       "        [ 2.47487373],\n",
       "        [ 2.90204669],\n",
       "        [ 2.47487373],\n",
       "        [ 3.5       ],\n",
       "        [ 3.81403658],\n",
       "        [ 2.90204669],\n",
       "        [ 2.47487373],\n",
       "        [ 2.90204669],\n",
       "        [ 2.47487373],\n",
       "        [ 3.5       ],\n",
       "        [ 3.81403658],\n",
       "        [ 2.47487373],\n",
       "        [ 3.81403658],\n",
       "        [ 3.81403658],\n",
       "        [ 2.90204669],\n",
       "        [ 2.47487373],\n",
       "        [ 2.90204669],\n",
       "        [ 2.47487373],\n",
       "        [ 3.5       ],\n",
       "        [ 3.81403658],\n",
       "        [ 2.47487373],\n",
       "        [ 3.81403658],\n",
       "        [ 2.47487373],\n",
       "        [ 3.81403658],\n",
       "        [ 3.81403658],\n",
       "        [ 2.90204669],\n",
       "        [ 3.81403658],\n",
       "        [ 2.90204669],\n",
       "        [ 2.90204669],\n",
       "        [ 1.51554446],\n",
       "        [ 3.5       ],\n",
       "        [ 3.5       ],\n",
       "        [ 3.5       ],\n",
       "        [ 2.47487373],\n",
       "        [ 3.81403658],\n",
       "        [ 2.47487373],\n",
       "        [ 3.81403658],\n",
       "        [ 2.47487373],\n",
       "        [ 3.81403658],\n",
       "        [ 2.47487373],\n",
       "        [ 2.90204669],\n",
       "        [ 2.47487373],\n",
       "        [ 2.90204669],\n",
       "        [ 3.5       ],\n",
       "        [ 2.47487373],\n",
       "        [ 2.90204669],\n",
       "        [ 2.47487373],\n",
       "        [ 2.90204669],\n",
       "        [ 3.5       ],\n",
       "        [ 3.81403658],\n",
       "        [ 3.81403658],\n",
       "        [ 2.47487373],\n",
       "        [ 1.51554446],\n",
       "        [ 2.47487373],\n",
       "        [ 2.90204669],\n",
       "        [ 2.47487373],\n",
       "        [ 2.90204669],\n",
       "        [ 3.5       ],\n",
       "        [ 3.81403658],\n",
       "        [ 2.47487373],\n",
       "        [ 1.51554446],\n",
       "        [ 3.81403658],\n",
       "        [ 2.47487373],\n",
       "        [ 1.51554446],\n",
       "        [ 3.81403658],\n",
       "        [ 3.81403658],\n",
       "        [ 2.90204669],\n",
       "        [ 2.90204669],\n",
       "        [ 2.90204669],\n",
       "        [ 3.81403658],\n",
       "        [ 2.90204669],\n",
       "        [ 2.90204669],\n",
       "        [ 1.51554446],\n",
       "        [ 3.81403658],\n",
       "        [ 3.81403658],\n",
       "        [ 2.90204669],\n",
       "        [ 2.47487373],\n",
       "        [ 2.47487373],\n",
       "        [ 2.47487373],\n",
       "        [ 2.47487373],\n",
       "        [ 3.81403658],\n",
       "        [ 3.81403658],\n",
       "        [ 2.90204669],\n",
       "        [ 3.5       ],\n",
       "        [ 2.90204669],\n",
       "        [ 2.90204669],\n",
       "        [ 3.81403658],\n",
       "        [ 3.81403658],\n",
       "        [ 1.51554446],\n",
       "        [ 2.47487373],\n",
       "        [ 2.90204669],\n",
       "        [ 3.5       ],\n",
       "        [ 1.51554446],\n",
       "        [ 2.47487373],\n",
       "        [ 3.81403658],\n",
       "        [ 2.90204669],\n",
       "        [ 3.5       ],\n",
       "        [ 2.90204669],\n",
       "        [ 2.47487373],\n",
       "        [ 2.90204669],\n",
       "        [ 2.47487373],\n",
       "        [ 1.51554446],\n",
       "        [ 3.5       ],\n",
       "        [ 3.5       ],\n",
       "        [ 3.81403658],\n",
       "        [ 3.81403658],\n",
       "        [ 2.90204669],\n",
       "        [ 2.47487373],\n",
       "        [ 2.90204669],\n",
       "        [ 2.47487373],\n",
       "        [ 3.81403658],\n",
       "        [ 2.47487373],\n",
       "        [ 3.81403658],\n",
       "        [ 2.47487373],\n",
       "        [ 3.5       ],\n",
       "        [ 3.81403658],\n",
       "        [ 3.81403658],\n",
       "        [ 2.90204669],\n",
       "        [ 3.81403658],\n",
       "        [ 2.90204669],\n",
       "        [ 2.90204669],\n",
       "        [ 1.51554446],\n",
       "        [ 2.47487373],\n",
       "        [ 2.47487373],\n",
       "        [ 2.47487373],\n",
       "        [ 2.47487373],\n",
       "        [ 2.90204669],\n",
       "        [ 3.81403658],\n",
       "        [ 3.81403658],\n",
       "        [ 1.51554446],\n",
       "        [ 2.90204669],\n",
       "        [ 2.90204669],\n",
       "        [ 3.81403658],\n",
       "        [ 3.5       ],\n",
       "        [ 2.47487373],\n",
       "        [ 3.81403658],\n",
       "        [ 3.5       ],\n",
       "        [ 2.47487373],\n",
       "        [ 3.81403658],\n",
       "        [ 3.5       ],\n",
       "        [ 2.47487373],\n",
       "        [ 2.90204669],\n",
       "        [ 2.47487373],\n",
       "        [ 2.90204669],\n",
       "        [ 3.81403658],\n",
       "        [ 3.5       ],\n",
       "        [ 3.81403658],\n",
       "        [ 3.5       ],\n",
       "        [ 2.47487373],\n",
       "        [ 2.90204669],\n",
       "        [ 3.81403658],\n",
       "        [ 2.47487373],\n",
       "        [ 2.90204669],\n",
       "        [ 2.47487373],\n",
       "        [ 1.51554446],\n",
       "        [ 2.47487373],\n",
       "        [ 1.51554446],\n",
       "        [ 3.5       ],\n",
       "        [ 2.90204669],\n",
       "        [ 3.81403658],\n",
       "        [ 2.90204669],\n",
       "        [ 3.81403658],\n",
       "        [ 2.90204669],\n",
       "        [ 3.81403658],\n",
       "        [ 2.90204669],\n",
       "        [ 3.81403658],\n",
       "        [ 1.51554446],\n",
       "        [ 2.90204669],\n",
       "        [ 2.47487373],\n",
       "        [ 2.47487373],\n",
       "        [ 2.47487373],\n",
       "        [ 2.47487373],\n",
       "        [ 3.81403658],\n",
       "        [ 2.90204669],\n",
       "        [ 3.81403658],\n",
       "        [ 2.90204669],\n",
       "        [ 1.51554446],\n",
       "        [ 3.81403658],\n",
       "        [ 2.90204669],\n",
       "        [ 2.47487373],\n",
       "        [ 2.47487373],\n",
       "        [ 2.47487373],\n",
       "        [ 2.47487373],\n",
       "        [ 3.81403658],\n",
       "        [ 2.90204669],\n",
       "        [ 3.81403658],\n",
       "        [ 3.81403658],\n",
       "        [ 2.90204669],\n",
       "        [ 3.5       ],\n",
       "        [ 3.81403658],\n",
       "        [ 3.81403658],\n",
       "        [ 2.90204669],\n",
       "        [ 3.5       ],\n",
       "        [ 1.51554446],\n",
       "        [ 2.47487373],\n",
       "        [ 2.90204669],\n",
       "        [ 3.5       ],\n",
       "        [ 2.90204669],\n",
       "        [ 2.47487373],\n",
       "        [ 1.51554446],\n",
       "        [ 3.5       ],\n",
       "        [ 2.90204669],\n",
       "        [ 2.47487373],\n",
       "        [ 3.81403658],\n",
       "        [ 2.47487373],\n",
       "        [ 3.5       ],\n",
       "        [ 3.5       ],\n",
       "        [ 3.81403658],\n",
       "        [ 3.81403658],\n",
       "        [ 2.90204669],\n",
       "        [ 3.81403658],\n",
       "        [ 2.90204669],\n",
       "        [ 2.90204669],\n",
       "        [ 1.51554446],\n",
       "        [ 2.47487373],\n",
       "        [ 2.47487373],\n",
       "        [ 2.47487373],\n",
       "        [ 2.47487373],\n",
       "        [ 2.90204669],\n",
       "        [ 1.51554446],\n",
       "        [ 3.81403658],\n",
       "        [ 2.90204669],\n",
       "        [ 3.81403658],\n",
       "        [ 2.90204669],\n",
       "        [ 3.81403658],\n",
       "        [ 2.47487373],\n",
       "        [ 2.47487373],\n",
       "        [ 2.47487373],\n",
       "        [ 2.47487373],\n",
       "        [ 2.90204669],\n",
       "        [ 3.81403658],\n",
       "        [ 1.51554446],\n",
       "        [ 2.90204669],\n",
       "        [ 3.81403658],\n",
       "        [ 2.90204669],\n",
       "        [ 3.81403658],\n",
       "        [ 3.5       ],\n",
       "        [ 3.5       ],\n",
       "        [ 2.47487373],\n",
       "        [ 3.81403658],\n",
       "        [ 3.5       ],\n",
       "        [ 2.47487373],\n",
       "        [ 2.90204669],\n",
       "        [ 3.5       ],\n",
       "        [ 2.47487373],\n",
       "        [ 2.90204669],\n",
       "        [ 2.47487373],\n",
       "        [ 1.51554446],\n",
       "        [ 3.5       ],\n",
       "        [ 3.81403658],\n",
       "        [ 3.5       ],\n",
       "        [ 3.81403658],\n",
       "        [ 2.90204669],\n",
       "        [ 3.81403658],\n",
       "        [ 2.90204669],\n",
       "        [ 2.90204669],\n",
       "        [ 1.51554446],\n",
       "        [ 3.81403658],\n",
       "        [ 3.81403658],\n",
       "        [ 2.90204669],\n",
       "        [ 2.47487373],\n",
       "        [ 2.47487373],\n",
       "        [ 2.47487373],\n",
       "        [ 2.47487373],\n",
       "        [ 3.81403658],\n",
       "        [ 2.90204669],\n",
       "        [ 3.81403658],\n",
       "        [ 2.90204669],\n",
       "        [ 1.51554446],\n",
       "        [ 3.81403658],\n",
       "        [ 2.90204669],\n",
       "        [ 2.47487373],\n",
       "        [ 2.47487373],\n",
       "        [ 2.47487373],\n",
       "        [ 2.47487373],\n",
       "        [ 3.81403658],\n",
       "        [ 2.90204669],\n",
       "        [ 3.81403658],\n",
       "        [ 2.90204669],\n",
       "        [ 3.81403658],\n",
       "        [ 1.51554446],\n",
       "        [ 2.90204669],\n",
       "        [ 2.47487373],\n",
       "        [ 2.47487373],\n",
       "        [ 2.47487373],\n",
       "        [ 2.47487373],\n",
       "        [ 3.81403658],\n",
       "        [ 3.81403658],\n",
       "        [ 2.90204669],\n",
       "        [ 3.5       ],\n",
       "        [ 3.81403658],\n",
       "        [ 2.90204669],\n",
       "        [ 3.5       ],\n",
       "        [ 2.90204669],\n",
       "        [ 3.5       ],\n",
       "        [ 1.51554446],\n",
       "        [ 3.5       ],\n",
       "        [ 3.5       ],\n",
       "        [ 3.5       ],\n",
       "        [ 3.81403658],\n",
       "        [ 3.81403658],\n",
       "        [ 2.90204669],\n",
       "        [ 3.81403658],\n",
       "        [ 2.90204669],\n",
       "        [ 2.90204669],\n",
       "        [ 1.51554446],\n",
       "        [ 2.47487373],\n",
       "        [ 2.47487373],\n",
       "        [ 2.47487373],\n",
       "        [ 2.47487373],\n",
       "        [ 2.90204669],\n",
       "        [ 3.81403658],\n",
       "        [ 3.81403658],\n",
       "        [ 1.51554446],\n",
       "        [ 2.90204669],\n",
       "        [ 2.90204669],\n",
       "        [ 3.81403658],\n",
       "        [ 2.47487373],\n",
       "        [ 2.47487373],\n",
       "        [ 2.47487373],\n",
       "        [ 2.47487373],\n",
       "        [ 2.90204669],\n",
       "        [ 3.81403658],\n",
       "        [ 1.51554446],\n",
       "        [ 2.90204669],\n",
       "        [ 3.81403658],\n",
       "        [ 2.90204669],\n",
       "        [ 3.81403658],\n",
       "        [ 2.47487373],\n",
       "        [ 2.47487373],\n",
       "        [ 2.47487373],\n",
       "        [ 2.47487373],\n",
       "        [ 2.90204669],\n",
       "        [ 1.51554446],\n",
       "        [ 3.81403658],\n",
       "        [ 2.90204669],\n",
       "        [ 3.81403658],\n",
       "        [ 2.90204669],\n",
       "        [ 3.81403658],\n",
       "        [ 3.5       ],\n",
       "        [ 3.5       ],\n",
       "        [ 3.5       ],\n",
       "        [ 3.5       ],\n",
       "        [ 3.5       ],\n",
       "        [ 3.5       ]])}"
      ]
     },
     "execution_count": 40,
     "metadata": {},
     "output_type": "execute_result"
    }
   ],
   "source": [
    "d = desc.calc(at)\n",
    "d"
   ]
  },
  {
   "cell_type": "markdown",
   "metadata": {},
   "source": [
    "Notice that the first array is called ``cutoff``, and it supplies the value of a cutoff function, implicit in all descriptors, which takes the descriptor value to zero as the atoms approach the cutoff, i.e. in this case as the distance between the two atoms approaches the cutoff. It is more complicated for three-body and higher-body descriptors, but the end result is always a descriptor which changes smoothly with atomic positions. "
   ]
  },
  {
   "cell_type": "markdown",
   "metadata": {},
   "source": [
    "Here is a histogram of the resulting descriptor array, i.e. of the interatomic distances"
   ]
  },
  {
   "cell_type": "code",
   "execution_count": 41,
   "metadata": {},
   "outputs": [
    {
     "data": {
      "image/png": "[encoded data removed]",
      "text/plain": [
       "<matplotlib.figure.Figure at 0x7fb789d54210>"
      ]
     },
     "metadata": {},
     "output_type": "display_data"
    }
   ],
   "source": [
    "import matplotlib.pyplot as plt\n",
    "plt.hist(d.descriptor)\n",
    "plt.show()"
   ]
  },
  {
   "cell_type": "markdown",
   "metadata": {},
   "source": [
    "Calculate size of descriptor data:"
   ]
  },
  {
   "cell_type": "code",
   "execution_count": 42,
   "metadata": {},
   "outputs": [
    {
     "name": "stdout",
     "output_type": "stream",
     "text": [
      "n_desc=368 n_cross=736\n"
     ]
    }
   ],
   "source": [
    "n_desc, n_cross = desc.descriptor_sizes(at)\n",
    "print(\"n_desc=%d n_cross=%d\" % (n_desc,n_cross))"
   ]
  },
  {
   "cell_type": "markdown",
   "metadata": {},
   "source": [
    "`n_desc` is number of descriptors, `n_cross` is number of gradients"
   ]
  },
  {
   "cell_type": "markdown",
   "metadata": {},
   "source": [
    "Gradients are returned in a `DescriptorCalcResult` object ( if the ``grad=True`` option is set ) which has the following elements:\n",
    "- `descriptor` = the descriptor values (equivalent to `desc.calc(at)`)\n",
    "- `grad` = the gradients\n",
    "- `index` = the indices (`i_desc`, `i_atom`, `i_coord`)"
   ]
  },
  {
   "cell_type": "code",
   "execution_count": 43,
   "metadata": {},
   "outputs": [
    {
     "data": {
      "text/plain": [
       "['descriptor', 'cutoff_grad', 'grad', 'index', 'cutoff']"
      ]
     },
     "execution_count": 43,
     "metadata": {},
     "output_type": "execute_result"
    }
   ],
   "source": [
    "res = desc.calc(at, grad=True)\n",
    "list(res)"
   ]
  },
  {
   "cell_type": "code",
   "execution_count": 44,
   "metadata": {},
   "outputs": [
    {
     "data": {
      "text/plain": [
       "array([[ 3.81403658],\n",
       "       [ 3.81403658],\n",
       "       [ 2.90204669],\n",
       "       [ 2.90204669],\n",
       "       [ 3.5       ],\n",
       "       [ 3.81403658],\n",
       "       [ 3.81403658],\n",
       "       [ 3.81403658],\n",
       "       [ 2.90204669],\n",
       "       [ 2.90204669],\n",
       "       [ 3.5       ],\n",
       "       [ 3.81403658],\n",
       "       [ 2.90204669],\n",
       "       [ 2.90204669],\n",
       "       [ 3.5       ],\n",
       "       [ 1.51554446],\n",
       "       [ 2.47487373],\n",
       "       [ 1.51554446],\n",
       "       [ 2.47487373],\n",
       "       [ 1.51554446],\n",
       "       [ 2.47487373],\n",
       "       [ 1.51554446],\n",
       "       [ 2.90204669],\n",
       "       [ 2.47487373],\n",
       "       [ 2.90204669],\n",
       "       [ 2.47487373],\n",
       "       [ 3.5       ],\n",
       "       [ 3.81403658],\n",
       "       [ 2.90204669],\n",
       "       [ 2.47487373],\n",
       "       [ 2.90204669],\n",
       "       [ 2.47487373],\n",
       "       [ 3.5       ],\n",
       "       [ 3.81403658],\n",
       "       [ 2.47487373],\n",
       "       [ 3.81403658],\n",
       "       [ 3.81403658],\n",
       "       [ 2.90204669],\n",
       "       [ 2.47487373],\n",
       "       [ 2.90204669],\n",
       "       [ 2.47487373],\n",
       "       [ 3.5       ],\n",
       "       [ 3.81403658],\n",
       "       [ 2.47487373],\n",
       "       [ 3.81403658],\n",
       "       [ 2.47487373],\n",
       "       [ 3.81403658],\n",
       "       [ 3.81403658],\n",
       "       [ 2.90204669],\n",
       "       [ 3.81403658],\n",
       "       [ 2.90204669],\n",
       "       [ 2.90204669],\n",
       "       [ 1.51554446],\n",
       "       [ 3.5       ],\n",
       "       [ 3.5       ],\n",
       "       [ 3.5       ],\n",
       "       [ 2.47487373],\n",
       "       [ 3.81403658],\n",
       "       [ 2.47487373],\n",
       "       [ 3.81403658],\n",
       "       [ 2.47487373],\n",
       "       [ 3.81403658],\n",
       "       [ 2.47487373],\n",
       "       [ 2.90204669],\n",
       "       [ 2.47487373],\n",
       "       [ 2.90204669],\n",
       "       [ 3.5       ],\n",
       "       [ 2.47487373],\n",
       "       [ 2.90204669],\n",
       "       [ 2.47487373],\n",
       "       [ 2.90204669],\n",
       "       [ 3.5       ],\n",
       "       [ 3.81403658],\n",
       "       [ 3.81403658],\n",
       "       [ 2.47487373],\n",
       "       [ 1.51554446],\n",
       "       [ 2.47487373],\n",
       "       [ 2.90204669],\n",
       "       [ 2.47487373],\n",
       "       [ 2.90204669],\n",
       "       [ 3.5       ],\n",
       "       [ 3.81403658],\n",
       "       [ 2.47487373],\n",
       "       [ 1.51554446],\n",
       "       [ 3.81403658],\n",
       "       [ 2.47487373],\n",
       "       [ 1.51554446],\n",
       "       [ 3.81403658],\n",
       "       [ 3.81403658],\n",
       "       [ 2.90204669],\n",
       "       [ 2.90204669],\n",
       "       [ 2.90204669],\n",
       "       [ 3.81403658],\n",
       "       [ 2.90204669],\n",
       "       [ 2.90204669],\n",
       "       [ 1.51554446],\n",
       "       [ 3.81403658],\n",
       "       [ 3.81403658],\n",
       "       [ 2.90204669],\n",
       "       [ 2.47487373],\n",
       "       [ 2.47487373],\n",
       "       [ 2.47487373],\n",
       "       [ 2.47487373],\n",
       "       [ 3.81403658],\n",
       "       [ 3.81403658],\n",
       "       [ 2.90204669],\n",
       "       [ 3.5       ],\n",
       "       [ 2.90204669],\n",
       "       [ 2.90204669],\n",
       "       [ 3.81403658],\n",
       "       [ 3.81403658],\n",
       "       [ 1.51554446],\n",
       "       [ 2.47487373],\n",
       "       [ 2.90204669],\n",
       "       [ 3.5       ],\n",
       "       [ 1.51554446],\n",
       "       [ 2.47487373],\n",
       "       [ 3.81403658],\n",
       "       [ 2.90204669],\n",
       "       [ 3.5       ],\n",
       "       [ 2.90204669],\n",
       "       [ 2.47487373],\n",
       "       [ 2.90204669],\n",
       "       [ 2.47487373],\n",
       "       [ 1.51554446],\n",
       "       [ 3.5       ],\n",
       "       [ 3.5       ],\n",
       "       [ 3.81403658],\n",
       "       [ 3.81403658],\n",
       "       [ 2.90204669],\n",
       "       [ 2.47487373],\n",
       "       [ 2.90204669],\n",
       "       [ 2.47487373],\n",
       "       [ 3.81403658],\n",
       "       [ 2.47487373],\n",
       "       [ 3.81403658],\n",
       "       [ 2.47487373],\n",
       "       [ 3.5       ],\n",
       "       [ 3.81403658],\n",
       "       [ 3.81403658],\n",
       "       [ 2.90204669],\n",
       "       [ 3.81403658],\n",
       "       [ 2.90204669],\n",
       "       [ 2.90204669],\n",
       "       [ 1.51554446],\n",
       "       [ 2.47487373],\n",
       "       [ 2.47487373],\n",
       "       [ 2.47487373],\n",
       "       [ 2.47487373],\n",
       "       [ 2.90204669],\n",
       "       [ 3.81403658],\n",
       "       [ 3.81403658],\n",
       "       [ 1.51554446],\n",
       "       [ 2.90204669],\n",
       "       [ 2.90204669],\n",
       "       [ 3.81403658],\n",
       "       [ 3.5       ],\n",
       "       [ 2.47487373],\n",
       "       [ 3.81403658],\n",
       "       [ 3.5       ],\n",
       "       [ 2.47487373],\n",
       "       [ 3.81403658],\n",
       "       [ 3.5       ],\n",
       "       [ 2.47487373],\n",
       "       [ 2.90204669],\n",
       "       [ 2.47487373],\n",
       "       [ 2.90204669],\n",
       "       [ 3.81403658],\n",
       "       [ 3.5       ],\n",
       "       [ 3.81403658],\n",
       "       [ 3.5       ],\n",
       "       [ 2.47487373],\n",
       "       [ 2.90204669],\n",
       "       [ 3.81403658],\n",
       "       [ 2.47487373],\n",
       "       [ 2.90204669],\n",
       "       [ 2.47487373],\n",
       "       [ 1.51554446],\n",
       "       [ 2.47487373],\n",
       "       [ 1.51554446],\n",
       "       [ 3.5       ],\n",
       "       [ 2.90204669],\n",
       "       [ 3.81403658],\n",
       "       [ 2.90204669],\n",
       "       [ 3.81403658],\n",
       "       [ 2.90204669],\n",
       "       [ 3.81403658],\n",
       "       [ 2.90204669],\n",
       "       [ 3.81403658],\n",
       "       [ 1.51554446],\n",
       "       [ 2.90204669],\n",
       "       [ 2.47487373],\n",
       "       [ 2.47487373],\n",
       "       [ 2.47487373],\n",
       "       [ 2.47487373],\n",
       "       [ 3.81403658],\n",
       "       [ 2.90204669],\n",
       "       [ 3.81403658],\n",
       "       [ 2.90204669],\n",
       "       [ 1.51554446],\n",
       "       [ 3.81403658],\n",
       "       [ 2.90204669],\n",
       "       [ 2.47487373],\n",
       "       [ 2.47487373],\n",
       "       [ 2.47487373],\n",
       "       [ 2.47487373],\n",
       "       [ 3.81403658],\n",
       "       [ 2.90204669],\n",
       "       [ 3.81403658],\n",
       "       [ 3.81403658],\n",
       "       [ 2.90204669],\n",
       "       [ 3.5       ],\n",
       "       [ 3.81403658],\n",
       "       [ 3.81403658],\n",
       "       [ 2.90204669],\n",
       "       [ 3.5       ],\n",
       "       [ 1.51554446],\n",
       "       [ 2.47487373],\n",
       "       [ 2.90204669],\n",
       "       [ 3.5       ],\n",
       "       [ 2.90204669],\n",
       "       [ 2.47487373],\n",
       "       [ 1.51554446],\n",
       "       [ 3.5       ],\n",
       "       [ 2.90204669],\n",
       "       [ 2.47487373],\n",
       "       [ 3.81403658],\n",
       "       [ 2.47487373],\n",
       "       [ 3.5       ],\n",
       "       [ 3.5       ],\n",
       "       [ 3.81403658],\n",
       "       [ 3.81403658],\n",
       "       [ 2.90204669],\n",
       "       [ 3.81403658],\n",
       "       [ 2.90204669],\n",
       "       [ 2.90204669],\n",
       "       [ 1.51554446],\n",
       "       [ 2.47487373],\n",
       "       [ 2.47487373],\n",
       "       [ 2.47487373],\n",
       "       [ 2.47487373],\n",
       "       [ 2.90204669],\n",
       "       [ 1.51554446],\n",
       "       [ 3.81403658],\n",
       "       [ 2.90204669],\n",
       "       [ 3.81403658],\n",
       "       [ 2.90204669],\n",
       "       [ 3.81403658],\n",
       "       [ 2.47487373],\n",
       "       [ 2.47487373],\n",
       "       [ 2.47487373],\n",
       "       [ 2.47487373],\n",
       "       [ 2.90204669],\n",
       "       [ 3.81403658],\n",
       "       [ 1.51554446],\n",
       "       [ 2.90204669],\n",
       "       [ 3.81403658],\n",
       "       [ 2.90204669],\n",
       "       [ 3.81403658],\n",
       "       [ 3.5       ],\n",
       "       [ 3.5       ],\n",
       "       [ 2.47487373],\n",
       "       [ 3.81403658],\n",
       "       [ 3.5       ],\n",
       "       [ 2.47487373],\n",
       "       [ 2.90204669],\n",
       "       [ 3.5       ],\n",
       "       [ 2.47487373],\n",
       "       [ 2.90204669],\n",
       "       [ 2.47487373],\n",
       "       [ 1.51554446],\n",
       "       [ 3.5       ],\n",
       "       [ 3.81403658],\n",
       "       [ 3.5       ],\n",
       "       [ 3.81403658],\n",
       "       [ 2.90204669],\n",
       "       [ 3.81403658],\n",
       "       [ 2.90204669],\n",
       "       [ 2.90204669],\n",
       "       [ 1.51554446],\n",
       "       [ 3.81403658],\n",
       "       [ 3.81403658],\n",
       "       [ 2.90204669],\n",
       "       [ 2.47487373],\n",
       "       [ 2.47487373],\n",
       "       [ 2.47487373],\n",
       "       [ 2.47487373],\n",
       "       [ 3.81403658],\n",
       "       [ 2.90204669],\n",
       "       [ 3.81403658],\n",
       "       [ 2.90204669],\n",
       "       [ 1.51554446],\n",
       "       [ 3.81403658],\n",
       "       [ 2.90204669],\n",
       "       [ 2.47487373],\n",
       "       [ 2.47487373],\n",
       "       [ 2.47487373],\n",
       "       [ 2.47487373],\n",
       "       [ 3.81403658],\n",
       "       [ 2.90204669],\n",
       "       [ 3.81403658],\n",
       "       [ 2.90204669],\n",
       "       [ 3.81403658],\n",
       "       [ 1.51554446],\n",
       "       [ 2.90204669],\n",
       "       [ 2.47487373],\n",
       "       [ 2.47487373],\n",
       "       [ 2.47487373],\n",
       "       [ 2.47487373],\n",
       "       [ 3.81403658],\n",
       "       [ 3.81403658],\n",
       "       [ 2.90204669],\n",
       "       [ 3.5       ],\n",
       "       [ 3.81403658],\n",
       "       [ 2.90204669],\n",
       "       [ 3.5       ],\n",
       "       [ 2.90204669],\n",
       "       [ 3.5       ],\n",
       "       [ 1.51554446],\n",
       "       [ 3.5       ],\n",
       "       [ 3.5       ],\n",
       "       [ 3.5       ],\n",
       "       [ 3.81403658],\n",
       "       [ 3.81403658],\n",
       "       [ 2.90204669],\n",
       "       [ 3.81403658],\n",
       "       [ 2.90204669],\n",
       "       [ 2.90204669],\n",
       "       [ 1.51554446],\n",
       "       [ 2.47487373],\n",
       "       [ 2.47487373],\n",
       "       [ 2.47487373],\n",
       "       [ 2.47487373],\n",
       "       [ 2.90204669],\n",
       "       [ 3.81403658],\n",
       "       [ 3.81403658],\n",
       "       [ 1.51554446],\n",
       "       [ 2.90204669],\n",
       "       [ 2.90204669],\n",
       "       [ 3.81403658],\n",
       "       [ 2.47487373],\n",
       "       [ 2.47487373],\n",
       "       [ 2.47487373],\n",
       "       [ 2.47487373],\n",
       "       [ 2.90204669],\n",
       "       [ 3.81403658],\n",
       "       [ 1.51554446],\n",
       "       [ 2.90204669],\n",
       "       [ 3.81403658],\n",
       "       [ 2.90204669],\n",
       "       [ 3.81403658],\n",
       "       [ 2.47487373],\n",
       "       [ 2.47487373],\n",
       "       [ 2.47487373],\n",
       "       [ 2.47487373],\n",
       "       [ 2.90204669],\n",
       "       [ 1.51554446],\n",
       "       [ 3.81403658],\n",
       "       [ 2.90204669],\n",
       "       [ 3.81403658],\n",
       "       [ 2.90204669],\n",
       "       [ 3.81403658],\n",
       "       [ 3.5       ],\n",
       "       [ 3.5       ],\n",
       "       [ 3.5       ],\n",
       "       [ 3.5       ],\n",
       "       [ 3.5       ],\n",
       "       [ 3.5       ]])"
      ]
     },
     "execution_count": 44,
     "metadata": {},
     "output_type": "execute_result"
    }
   ],
   "source": [
    "res.descriptor[:,:10]"
   ]
  },
  {
   "cell_type": "code",
   "execution_count": 45,
   "metadata": {},
   "outputs": [
    {
     "data": {
      "text/plain": [
       "array([[[-0.22941573],\n",
       "        [ 0.6882472 ],\n",
       "        [ 0.6882472 ]],\n",
       "\n",
       "       [[ 0.22941573],\n",
       "        [-0.6882472 ],\n",
       "        [-0.6882472 ]],\n",
       "\n",
       "       [[ 0.6882472 ],\n",
       "        [-0.22941573],\n",
       "        [ 0.6882472 ]],\n",
       "\n",
       "       ..., \n",
       "       [[ 0.        ],\n",
       "        [ 1.        ],\n",
       "        [ 0.        ]],\n",
       "\n",
       "       [[-0.        ],\n",
       "        [-0.        ],\n",
       "        [-1.        ]],\n",
       "\n",
       "       [[ 0.        ],\n",
       "        [ 0.        ],\n",
       "        [ 1.        ]]])"
      ]
     },
     "execution_count": 45,
     "metadata": {},
     "output_type": "execute_result"
    }
   ],
   "source": [
    "res.grad[:,:10]"
   ]
  },
  {
   "cell_type": "code",
   "execution_count": 46,
   "metadata": {},
   "outputs": [
    {
     "data": {
      "text/plain": [
       "array([[  1,   1],\n",
       "       [  1,   2],\n",
       "       [  2,   1],\n",
       "       ..., \n",
       "       [367,   8],\n",
       "       [368,   8],\n",
       "       [368,   8]], dtype=int32)"
      ]
     },
     "execution_count": 46,
     "metadata": {},
     "output_type": "execute_result"
    }
   ],
   "source": [
    "res.index[:,:10]"
   ]
  },
  {
   "cell_type": "markdown",
   "metadata": {},
   "source": [
    "## A many-body descriptor: SOAP"
   ]
  },
  {
   "cell_type": "code",
   "execution_count": 63,
   "metadata": {
    "collapsed": true
   },
   "outputs": [],
   "source": [
    "desc = descriptors.Descriptor(\"soap cutoff=3 l_max=4 n_max=4 atom_sigma=0.5 n_Z=1 Z={6} \")"
   ]
  },
  {
   "cell_type": "markdown",
   "metadata": {},
   "source": [
    "There are now only 8 descriptors, because SOAP produces one for each atom in the structure"
   ]
  },
  {
   "cell_type": "code",
   "execution_count": 64,
   "metadata": {},
   "outputs": [
    {
     "data": {
      "text/plain": [
       "(8, 232)"
      ]
     },
     "execution_count": 64,
     "metadata": {},
     "output_type": "execute_result"
    }
   ],
   "source": [
    "desc.descriptor_sizes(at)"
   ]
  },
  {
   "cell_type": "markdown",
   "metadata": {},
   "source": [
    "But each descriptor now is a long vector, because it encodes the entire environment of the atom up to the cutoff. The length of the vector depends on ```l_max``` and ```n_max``` and also on the number of atom types. "
   ]
  },
  {
   "cell_type": "code",
   "execution_count": 66,
   "metadata": {},
   "outputs": [
    {
     "data": {
      "text/plain": [
       "51"
      ]
     },
     "execution_count": 66,
     "metadata": {},
     "output_type": "execute_result"
    }
   ],
   "source": [
    "desc.n_dim"
   ]
  },
  {
   "cell_type": "code",
   "execution_count": 65,
   "metadata": {},
   "outputs": [
    {
     "data": {
      "text/plain": [
       "{'cutoff': array([ 1.,  1.,  1.,  1.,  1.,  1.,  1.,  1.]),\n",
       " 'descriptor': array([[  2.63487898e-01,   3.19198559e-36,   1.25791460e-36,\n",
       "           2.27467236e-03,   7.81144539e-04,   5.51080842e-01,\n",
       "          -5.75136060e-35,   9.08637000e-36,   2.19176356e-02,\n",
       "           7.81338076e-03,   5.76288508e-01,   1.23328865e-33,\n",
       "           7.11087397e-35,   1.05593834e-01,   3.90765830e-02,\n",
       "           2.84225658e-01,  -1.07002058e-35,  -7.67926380e-36,\n",
       "          -2.01220340e-03,   2.59681991e-03,   4.20342133e-01,\n",
       "          -4.28008230e-34,  -2.33271549e-35,  -1.37098193e-02,\n",
       "           1.83668391e-02,   1.53297789e-01,   2.42118018e-34,\n",
       "           3.81864106e-35,   8.90010050e-04,   4.31640581e-03,\n",
       "          -2.51452500e-03,  -1.04494197e-37,  -2.53730616e-38,\n",
       "           1.63990654e-05,  -2.38148142e-05,  -3.71873816e-03,\n",
       "          -5.01572145e-37,   3.55380950e-38,   1.11732355e-04,\n",
       "          -1.68437888e-04,  -1.91797776e-03,   1.33752572e-36,\n",
       "          -2.52940178e-38,  -1.02578685e-05,  -5.59812552e-05,\n",
       "           1.19983423e-05,   5.54164164e-39,   2.59899711e-39,\n",
       "           5.91138644e-08,   3.63022045e-07,   0.00000000e+00],\n",
       "        [  2.63487898e-01,   4.85160624e-37,   8.15279123e-36,\n",
       "           2.27467236e-03,   7.81144539e-04,   5.51080842e-01,\n",
       "          -1.81057421e-35,   6.91279182e-36,   2.19176356e-02,\n",
       "           7.81338076e-03,   5.76288508e-01,   3.46819948e-34,\n",
       "           1.94246249e-34,   1.05593834e-01,   3.90765830e-02,\n",
       "           2.84225658e-01,   1.97428723e-35,  -3.17642275e-36,\n",
       "          -2.01220340e-03,   2.59681991e-03,   4.20342133e-01,\n",
       "          -5.41091850e-34,  -3.72692175e-35,  -1.37098193e-02,\n",
       "           1.83668391e-02,   1.53297789e-01,   6.14398114e-34,\n",
       "           1.90703117e-35,   8.90010050e-04,   4.31640581e-03,\n",
       "          -2.51452500e-03,   2.33887402e-38,  -1.73267974e-37,\n",
       "           1.63990654e-05,  -2.38148142e-05,  -3.71873816e-03,\n",
       "          -7.02070385e-37,   5.52705906e-37,   1.11732355e-04,\n",
       "          -1.68437888e-04,  -1.91797776e-03,   1.68758128e-36,\n",
       "           2.38522588e-37,  -1.02578685e-05,  -5.59812552e-05,\n",
       "           1.19983423e-05,   3.00172256e-39,   5.59063840e-39,\n",
       "           5.91138644e-08,   3.63022045e-07,   0.00000000e+00],\n",
       "        [  2.63487898e-01,   1.15857255e-35,   2.08004054e-35,\n",
       "           2.27467236e-03,   7.81144539e-04,   5.51080842e-01,\n",
       "           5.61760802e-35,   1.01812216e-34,   2.19176356e-02,\n",
       "           7.81338076e-03,   5.76288508e-01,   2.57250394e-34,\n",
       "           4.43815433e-34,   1.05593834e-01,   3.90765830e-02,\n",
       "           2.84225658e-01,  -7.49014403e-35,   8.01314483e-37,\n",
       "          -2.01220340e-03,   2.59681991e-03,   4.20342133e-01,\n",
       "          -1.71203292e-34,  -4.44850949e-35,  -1.37098193e-02,\n",
       "           1.83668391e-02,   1.53297789e-01,   3.02647522e-34,\n",
       "           1.31866741e-35,   8.90010050e-04,   4.31640581e-03,\n",
       "          -2.51452500e-03,   2.92583751e-37,  -4.43072148e-37,\n",
       "           1.63990654e-05,  -2.38148142e-05,  -3.71873816e-03,\n",
       "           1.00314429e-36,  -6.08182010e-36,   1.11732355e-04,\n",
       "          -1.68437888e-04,  -1.91797776e-03,  -1.33752572e-36,\n",
       "           1.38813570e-36,  -1.02578685e-05,  -5.59812552e-05,\n",
       "           1.19983423e-05,   3.69442776e-39,   8.70188945e-38,\n",
       "           5.91138644e-08,   3.63022045e-07,   0.00000000e+00],\n",
       "        [  2.63487898e-01,   9.88232728e-36,   3.88247690e-36,\n",
       "           2.27467236e-03,   7.81144539e-04,   5.51080842e-01,\n",
       "          -2.78922768e-35,  -2.75003517e-35,   2.19176356e-02,\n",
       "           7.81338076e-03,   5.76288508e-01,   1.01901554e-34,\n",
       "           1.44449956e-34,   1.05593834e-01,   3.90765830e-02,\n",
       "           2.84225658e-01,   1.15766508e-35,   3.35651616e-36,\n",
       "          -2.01220340e-03,   2.59681991e-03,   4.20342133e-01,\n",
       "           5.48594534e-35,   5.65736119e-35,  -1.37098193e-02,\n",
       "           1.83668391e-02,   1.53297789e-01,   6.91596877e-35,\n",
       "           6.59562643e-35,   8.90010050e-04,   4.31640581e-03,\n",
       "          -2.51452500e-03,  -2.42561236e-37,  -8.05574944e-38,\n",
       "           1.63990654e-05,  -2.38148142e-05,  -3.71873816e-03,\n",
       "           3.67688955e-37,  -6.63051058e-37,   1.11732355e-04,\n",
       "          -1.68437888e-04,  -1.91797776e-03,  -1.72415425e-37,\n",
       "          -1.23864805e-36,  -1.02578685e-05,  -5.59812552e-05,\n",
       "           1.19983423e-05,   3.70885912e-39,   1.79987536e-38,\n",
       "           5.91138644e-08,   3.63022045e-07,   0.00000000e+00],\n",
       "        [  2.63487898e-01,   4.92505103e-36,   1.22497217e-35,\n",
       "           2.27467236e-03,   7.81144539e-04,   5.51080842e-01,\n",
       "           4.17405335e-36,   3.45675003e-35,   2.19176356e-02,\n",
       "           7.81338076e-03,   5.76288508e-01,   2.50988339e-34,\n",
       "           1.62836324e-34,   1.05593834e-01,   3.90765830e-02,\n",
       "           2.84225658e-01,  -2.88012130e-37,  -1.78327884e-35,\n",
       "          -2.01220340e-03,   2.59681991e-03,   4.20342133e-01,\n",
       "           3.07212939e-36,  -2.48043256e-35,  -1.37098193e-02,\n",
       "           1.83668391e-02,   1.53297789e-01,   5.31997598e-37,\n",
       "           2.49310558e-35,   8.90010050e-04,   4.31640581e-03,\n",
       "          -2.51452500e-03,   3.75015794e-39,  -2.03079345e-37,\n",
       "           1.63990654e-05,  -2.38148142e-05,  -3.71873816e-03,\n",
       "          -4.00016847e-38,  -2.63007197e-36,   1.11732355e-04,\n",
       "          -1.68437888e-04,  -1.91797776e-03,  -9.79633096e-39,\n",
       "           2.18540314e-37,  -1.02578685e-05,  -5.59812552e-05,\n",
       "           1.19983423e-05,   9.01959903e-41,   2.91758385e-38,\n",
       "           5.91138644e-08,   3.63022045e-07,   0.00000000e+00],\n",
       "        [  2.63487898e-01,   6.55427563e-36,   1.14267004e-36,\n",
       "           2.27467236e-03,   7.81144539e-04,   5.51080842e-01,\n",
       "          -9.43736074e-35,  -2.08825514e-35,   2.19176356e-02,\n",
       "           7.81338076e-03,   5.76288508e-01,   1.17586616e-33,\n",
       "           3.54140397e-34,   1.05593834e-01,   3.90765830e-02,\n",
       "           2.84225658e-01,  -3.84277409e-36,  -6.50056257e-37,\n",
       "          -2.01220340e-03,   2.59681991e-03,   4.20342133e-01,\n",
       "           7.05962794e-35,  -5.10534455e-35,  -1.37098193e-02,\n",
       "           1.83668391e-02,   1.53297789e-01,   3.07376390e-36,\n",
       "           5.60662587e-35,   8.90010050e-04,   4.31640581e-03,\n",
       "          -2.51452500e-03,  -3.49810651e-38,   1.75319161e-38,\n",
       "           1.63990654e-05,  -2.38148142e-05,  -3.71873816e-03,\n",
       "           1.58765870e-36,  -1.78891941e-36,   1.11732355e-04,\n",
       "          -1.68437888e-04,  -1.91797776e-03,   5.22470984e-39,\n",
       "           8.16490894e-37,  -1.02578685e-05,  -5.59812552e-05,\n",
       "           1.19983423e-05,   3.80987863e-39,   3.67324924e-38,\n",
       "           5.91138644e-08,   3.63022045e-07,   0.00000000e+00],\n",
       "        [  2.63487898e-01,   3.02647522e-35,   6.13546644e-36,\n",
       "           2.27467236e-03,   7.81144539e-04,   5.51080842e-01,\n",
       "           0.00000000e+00,   3.10812890e-36,   2.19176356e-02,\n",
       "           7.81338076e-03,   5.76288508e-01,   2.42118018e-34,\n",
       "           2.05126042e-34,   1.05593834e-01,   3.90765830e-02,\n",
       "           2.84225658e-01,   4.01257716e-36,   1.16554834e-35,\n",
       "          -2.01220340e-03,   2.59681991e-03,   4.20342133e-01,\n",
       "          -5.35010288e-36,   5.18021484e-35,  -1.37098193e-02,\n",
       "           1.83668391e-02,   1.53297789e-01,   1.06399520e-36,\n",
       "           1.90216630e-34,   8.90010050e-04,   4.31640581e-03,\n",
       "          -2.51452500e-03,  -2.08988394e-37,  -1.41646500e-37,\n",
       "           1.63990654e-05,  -2.38148142e-05,  -3.71873816e-03,\n",
       "           4.17976788e-38,  -2.75198913e-37,   1.11732355e-04,\n",
       "          -1.68437888e-04,  -1.91797776e-03,  -3.98384126e-38,\n",
       "          -2.66624241e-36,  -1.02578685e-05,  -5.59812552e-05,\n",
       "           1.19983423e-05,   9.84940214e-40,   2.04147031e-38,\n",
       "           5.91138644e-08,   3.63022045e-07,   0.00000000e+00],\n",
       "        [  2.63487898e-01,   8.94193667e-36,   2.70278931e-36,\n",
       "           2.27467236e-03,   7.81144539e-04,   5.51080842e-01,\n",
       "          -2.79595449e-35,   2.55824328e-35,   2.19176356e-02,\n",
       "           7.81338076e-03,   5.76288508e-01,   4.75216090e-34,\n",
       "           6.83792942e-34,   1.05593834e-01,   3.90765830e-02,\n",
       "           2.84225658e-01,  -2.26621790e-36,   2.07410946e-38,\n",
       "          -2.01220340e-03,   2.59681991e-03,   4.20342133e-01,\n",
       "          -2.69386040e-35,   6.00135983e-35,  -1.37098193e-02,\n",
       "           1.83668391e-02,   1.53297789e-01,   2.00976870e-36,\n",
       "           5.49673691e-35,   8.90010050e-04,   4.31640581e-03,\n",
       "          -2.51452500e-03,   4.13690893e-38,  -2.87996105e-38,\n",
       "           1.63990654e-05,  -2.38148142e-05,  -3.71873816e-03,\n",
       "           1.88416099e-37,  -3.61672837e-37,   1.11732355e-04,\n",
       "          -1.68437888e-04,  -1.91797776e-03,  -3.39606140e-38,\n",
       "          -1.90893952e-36,  -1.02578685e-05,  -5.59812552e-05,\n",
       "           1.19983423e-05,   3.17489886e-40,   3.74828481e-38,\n",
       "           5.91138644e-08,   3.63022045e-07,   0.00000000e+00]])}"
      ]
     },
     "execution_count": 65,
     "metadata": {},
     "output_type": "execute_result"
    }
   ],
   "source": [
    "desc.calc(at)"
   ]
  },
  {
   "cell_type": "markdown",
   "metadata": {},
   "source": [
    "Note that the ```cutoff``` array is now all 1, because SOAP takes the cutoff into account when it computes the descriptor vector"
   ]
  },
  {
   "cell_type": "markdown",
   "metadata": {},
   "source": [
    "We now add a hydrogen atom to the structure"
   ]
  },
  {
   "cell_type": "code",
   "execution_count": 71,
   "metadata": {},
   "outputs": [],
   "source": [
    "at.add_atoms((0.2,0.2,0.2),(1))"
   ]
  },
  {
   "cell_type": "code",
   "execution_count": 74,
   "metadata": {},
   "outputs": [
    {
     "data": {
      "text/plain": [
       "(8, 258)"
      ]
     },
     "execution_count": 74,
     "metadata": {},
     "output_type": "execute_result"
    }
   ],
   "source": [
    "at.calc_connect()\n",
    "desc.descriptor_sizes(at)"
   ]
  },
  {
   "cell_type": "markdown",
   "metadata": {},
   "source": [
    "The descriptor sizes did not change! This is because the descriptor was set up above to only look at carbon atoms (Z=6). We need a new descriptor that takes account of H atoms. "
   ]
  },
  {
   "cell_type": "code",
   "execution_count": 78,
   "metadata": {
    "collapsed": true
   },
   "outputs": [],
   "source": [
    "desc = descriptors.Descriptor(\"soap cutoff=3 l_max=4 n_max=4 atom_sigma=0.5 n_Z=2 Z={1 6} n_species=2 species_Z={1 6}\")"
   ]
  },
  {
   "cell_type": "markdown",
   "metadata": {},
   "source": [
    "The specification of which atoms are used as SOAP centers is separate to the specification of which atoms are taken into account in the environment. The ``n_Z=2 Z={1 6}`` options specify that both H and C are to be taken as SOAP centers. The ```n_species=2 species_Z={1 6}``` options specify the atom types to be taken into account in the environment.\n",
    "\n",
    "Now the dimensionalithy of"
   ]
  },
  {
   "cell_type": "code",
   "execution_count": 79,
   "metadata": {},
   "outputs": [
    {
     "data": {
      "text/plain": [
       "181"
      ]
     },
     "execution_count": 79,
     "metadata": {},
     "output_type": "execute_result"
    }
   ],
   "source": [
    "desc.n_dim"
   ]
  },
  {
   "cell_type": "code",
   "execution_count": 80,
   "metadata": {},
   "outputs": [
    {
     "data": {
      "text/plain": [
       "(9, 285)"
      ]
     },
     "execution_count": 80,
     "metadata": {},
     "output_type": "execute_result"
    }
   ],
   "source": [
    "desc.descriptor_sizes(at)"
   ]
  },
  {
   "cell_type": "code",
   "execution_count": 81,
   "metadata": {},
   "outputs": [
    {
     "data": {
      "text/plain": [
       "{'cutoff': array([ 1.,  1.,  1.,  1.,  1.,  1.,  1.,  1.,  1.]),\n",
       " 'descriptor': array([[  8.77557915e-02,   6.67877090e-06,   1.32368918e-06, ...,\n",
       "           5.39505036e-08,   3.31313515e-07,   0.00000000e+00],\n",
       "        [  1.77188829e-03,   3.74461483e-04,   2.74157244e-04, ...,\n",
       "           5.81842224e-08,   3.57313054e-07,   0.00000000e+00],\n",
       "        [  1.24011279e-04,   4.57421978e-05,   4.91840662e-05, ...,\n",
       "           5.81830007e-08,   3.57305552e-07,   0.00000000e+00],\n",
       "        ..., \n",
       "        [  1.24011279e-04,   4.57421978e-05,   4.91840662e-05, ...,\n",
       "           5.81830007e-08,   3.57305552e-07,   0.00000000e+00],\n",
       "        [  3.76907877e-04,   4.04885591e-04,   3.44444944e-04, ...,\n",
       "           5.79365059e-08,   3.55791811e-07,   0.00000000e+00],\n",
       "        [  1.35807048e-01,   0.00000000e+00,   0.00000000e+00, ...,\n",
       "           3.44738745e-07,   1.39187207e-07,   0.00000000e+00]])}"
      ]
     },
     "execution_count": 81,
     "metadata": {},
     "output_type": "execute_result"
    }
   ],
   "source": [
    "desc.calc(at)"
   ]
  },
  {
   "cell_type": "markdown",
   "metadata": {},
   "source": [
    "## General_monomer example: benzene"
   ]
  },
  {
   "cell_type": "markdown",
   "metadata": {},
   "source": [
    "Now for a more interesting descriptor: a three-site benzene monomer"
   ]
  },
  {
   "cell_type": "code",
   "execution_count": 47,
   "metadata": {
    "collapsed": true
   },
   "outputs": [],
   "source": [
    "desc_monomer = descriptors.Descriptor('general_monomer signature={6 6 6} atom_ordercheck=F')"
   ]
  },
  {
   "cell_type": "markdown",
   "metadata": {},
   "source": [
    "Three intramolecular distances = dimensionality 3:"
   ]
  },
  {
   "cell_type": "code",
   "execution_count": 48,
   "metadata": {},
   "outputs": [
    {
     "data": {
      "text/plain": [
       "3"
      ]
     },
     "execution_count": 48,
     "metadata": {},
     "output_type": "execute_result"
    }
   ],
   "source": [
    "desc_monomer.n_dim"
   ]
  },
  {
   "cell_type": "markdown",
   "metadata": {},
   "source": [
    "And a lot more permutations now:"
   ]
  },
  {
   "cell_type": "code",
   "execution_count": 49,
   "metadata": {},
   "outputs": [
    {
     "data": {
      "text/plain": [
       "6"
      ]
     },
     "execution_count": 49,
     "metadata": {},
     "output_type": "execute_result"
    }
   ],
   "source": [
    "desc_monomer.n_perm"
   ]
  },
  {
   "cell_type": "code",
   "execution_count": 50,
   "metadata": {},
   "outputs": [
    {
     "data": {
      "text/plain": [
       "array([[1, 2, 3],\n",
       "       [2, 1, 3],\n",
       "       [1, 3, 2],\n",
       "       [3, 1, 2],\n",
       "       [2, 3, 1],\n",
       "       [3, 2, 1]], dtype=int32)"
      ]
     },
     "execution_count": 50,
     "metadata": {},
     "output_type": "execute_result"
    }
   ],
   "source": [
    "desc_monomer.permutations()"
   ]
  },
  {
   "cell_type": "markdown",
   "metadata": {},
   "source": [
    "Load some test configurations"
   ]
  },
  {
   "cell_type": "code",
   "execution_count": 51,
   "metadata": {
    "collapsed": true
   },
   "outputs": [],
   "source": [
    "benzat = quippy.AtomsList('benzene_frames.xyz')"
   ]
  },
  {
   "cell_type": "code",
   "execution_count": 52,
   "metadata": {},
   "outputs": [
    {
     "data": {
      "text/plain": [
       "(40, 3, 648)"
      ]
     },
     "execution_count": 52,
     "metadata": {},
     "output_type": "execute_result"
    }
   ],
   "source": [
    "benzat.pos.shape"
   ]
  },
  {
   "cell_type": "code",
   "execution_count": 53,
   "metadata": {
    "collapsed": true
   },
   "outputs": [],
   "source": [
    "for i in range(len(benzat)):\n",
    "    benzat[i].set_cutoff(desc_monomer.cutoff()+0.5)\n",
    "    benzat[i].calc_connect()"
   ]
  },
  {
   "cell_type": "markdown",
   "metadata": {},
   "source": [
    "Calling `calc` or any of the other methods on an `AtomsList` returns a list of results. Here we look at the results for the first configuration:"
   ]
  },
  {
   "cell_type": "code",
   "execution_count": 54,
   "metadata": {
    "collapsed": true
   },
   "outputs": [],
   "source": [
    "res = desc_monomer.calc(benzat, grad=True)[0]"
   ]
  },
  {
   "cell_type": "code",
   "execution_count": 55,
   "metadata": {},
   "outputs": [
    {
     "data": {
      "text/plain": [
       "(648, 3, 3)"
      ]
     },
     "execution_count": 55,
     "metadata": {},
     "output_type": "execute_result"
    }
   ],
   "source": [
    "res.grad.shape"
   ]
  }
 ],
 "metadata": {
  "kernelspec": {
   "display_name": "Python 2",
   "language": "python",
   "name": "python2"
  },
  "language_info": {
   "codemirror_mode": {
    "name": "ipython",
    "version": 2
   },
   "file_extension": ".py",
   "mimetype": "text/x-python",
   "name": "python",
   "nbconvert_exporter": "python",
   "pygments_lexer": "ipython2",
   "version": "2.7.13"
  }
 },
 "nbformat": 4,
 "nbformat_minor": 2
}
