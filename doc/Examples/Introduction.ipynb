{
 "cells": [
  {
   "cell_type": "markdown",
   "metadata": {},
   "source": [
    "# Getting started with `Atoms`"
   ]
  },
  {
   "cell_type": "markdown",
   "metadata": {},
   "source": [
    "This example will walk you through getting started with using `quippy` by playing with a small molecule.  It complements the (older) [introductory tutorial](http://libatoms.github.io/QUIP/tutorial.html) which is longer and goes more in depth, though it is recommended that new users start here first.  This example is especially recommended for those who want to get going and working with `Atoms` as quickly as possible."
   ]
  },
  {
   "cell_type": "markdown",
   "metadata": {},
   "source": [
    "First, make sure you have QUIP and `quippy` properly installed.  If you can run the cell below, then congratulations!  If not, then see the [Installation instructions](http://libatoms.github.io/QUIP/install.html)."
   ]
  },
  {
   "cell_type": "code",
   "execution_count": 24,
   "metadata": {
    "collapsed": true
   },
   "outputs": [],
   "source": [
    "import numpy as np\n",
    "\n",
    "import quippy\n",
    "from quippy import Atoms"
   ]
  },
  {
   "cell_type": "markdown",
   "metadata": {},
   "source": [
    "Remember, this is an interactive tutorial.  You are encouraged to run the cells yourself and even try editing the code to see what else you can do!"
   ]
  },
  {
   "cell_type": "markdown",
   "metadata": {},
   "source": [
    "Now let's try getting our hands on an `Atoms` object; this object is required to do almost anything useful in `quippy`."
   ]
  },
  {
   "cell_type": "code",
   "execution_count": 25,
   "metadata": {
    "collapsed": true
   },
   "outputs": [],
   "source": [
    "struct = quippy.Atoms('methane.xyz')"
   ]
  },
  {
   "cell_type": "markdown",
   "metadata": {},
   "source": [
    "OK, now what do we do with it?  Let's look at the Atoms source file and see what sort of information is encoded in it:"
   ]
  },
  {
   "cell_type": "code",
   "execution_count": 26,
   "metadata": {
    "collapsed": false
   },
   "outputs": [
    {
     "name": "stdout",
     "output_type": "stream",
     "text": [
      "5\r\n",
      "cutoff=-1.00000000 nneightol=1.20000000 pbc=\"T T T\" Lattice=\"10.00000000       0.00000000       0.00000000       0.00000000      10.00000000       0.00000000       0.00000000       0.00000000      10.00000000\" Properties=species:S:1:pos:R:3:Z:I:1\r\n",
      "C               0.00000000      0.00000000      0.00000000       6\r\n",
      "H               0.00000000      0.00000000      1.07000000       1\r\n",
      "H               0.62414000      0.79255000     -0.35666000       1\r\n",
      "H              -0.99844000      0.14425000     -0.35667000       1\r\n",
      "H               0.37430000     -0.93680000     -0.35667000       1\r\n"
     ]
    }
   ],
   "source": [
    "!cat methane.xyz"
   ]
  },
  {
   "cell_type": "markdown",
   "metadata": {},
   "source": [
    "We have positions, atomic symbols, atomic numbers, and a unit cell.  There's also some other information in there that we don't need right now.  But let's see how to access these properties from `quippy`:"
   ]
  },
  {
   "cell_type": "code",
   "execution_count": 27,
   "metadata": {
    "collapsed": false
   },
   "outputs": [
    {
     "name": "stdout",
     "output_type": "stream",
     "text": [
      "Positions:\n",
      "[[ 0.       0.       0.     ]\n",
      " [ 0.       0.       1.07   ]\n",
      " [ 0.62414  0.79255 -0.35666]\n",
      " [-0.99844  0.14425 -0.35667]\n",
      " [ 0.3743  -0.9368  -0.35667]]\n",
      "Unit cell:\n",
      "[[ 10.   0.   0.]\n",
      " [  0.  10.   0.]\n",
      " [  0.   0.  10.]]\n",
      "Atomic numbers:\n",
      "[6 1 1 1 1]\n"
     ]
    }
   ],
   "source": [
    "print(\"Positions:\")\n",
    "print(struct.get_positions())\n",
    "print(\"Unit cell:\")\n",
    "print(struct.get_cell())\n",
    "print(\"Atomic numbers:\")\n",
    "print(struct.get_atomic_numbers())"
   ]
  },
  {
   "cell_type": "markdown",
   "metadata": {},
   "source": [
    "(Remember, units in quippy are always Ångstrøms and electronvolts: http://libatoms.github.io/QUIP/units.html)"
   ]
  },
  {
   "cell_type": "markdown",
   "metadata": {},
   "source": [
    "You might want get an idea of what this structure actually looks like.  The native `xyz` format is supported by many open-source molecular viewers, like [VMD](http://www.ks.uiuc.edu/Research/vmd/) and [Avogadro](https://avogadro.cc/).  If you've gotten the `atomeye` module to work you can use that as well.\n",
    "\n",
    "We're still looking for a simple way to view molecular structures in the notebook environment; once we (the developers) get that working with quippy we'll update this tutorial."
   ]
  },
  {
   "cell_type": "markdown",
   "metadata": {},
   "source": [
    "Let's try another way to get information about the structure: This is a molecule, so we can check the bonds and angles."
   ]
  },
  {
   "cell_type": "code",
   "execution_count": 28,
   "metadata": {
    "collapsed": false,
    "scrolled": true
   },
   "outputs": [
    {
     "data": {
      "text/plain": [
       "1.0700000000000001"
      ]
     },
     "execution_count": 28,
     "metadata": {},
     "output_type": "execute_result"
    }
   ],
   "source": [
    "struct.get_distance(0, 1)"
   ]
  },
  {
   "cell_type": "markdown",
   "metadata": {},
   "source": [
    "OK, that's a pretty reasonable C-H bond length in a methane molecule.  What about the other ones?"
   ]
  },
  {
   "cell_type": "code",
   "execution_count": 29,
   "metadata": {
    "collapsed": false
   },
   "outputs": [
    {
     "data": {
      "text/plain": [
       "[1.0700000000000001,\n",
       " 1.0699965409757173,\n",
       " 1.0700018621479124,\n",
       " 1.0700038406005841]"
      ]
     },
     "execution_count": 29,
     "metadata": {},
     "output_type": "execute_result"
    }
   ],
   "source": [
    "[struct.get_distance(0, i) for i in range(1, 5)]"
   ]
  },
  {
   "cell_type": "markdown",
   "metadata": {},
   "source": [
    "And how about an H-C-H angle?"
   ]
  },
  {
   "cell_type": "code",
   "execution_count": 30,
   "metadata": {
    "collapsed": false
   },
   "outputs": [
    {
     "data": {
      "text/plain": [
       "109.47090748192832"
      ]
     },
     "execution_count": 30,
     "metadata": {},
     "output_type": "execute_result"
    }
   ],
   "source": [
    "struct.get_angle([1, 0, 2]) * 180 / np.pi"
   ]
  },
  {
   "cell_type": "markdown",
   "metadata": {},
   "source": [
    "which is the correct \"tetrahedral angle\" between the hydrogens in a methane molecule (it's equal to $\\arccos\\left(-\\frac{1}{3}\\right)$)."
   ]
  },
  {
   "cell_type": "markdown",
   "metadata": {},
   "source": [
    "Note that the atom indices in these functions are *zero_based*, meaning the first atom (here, the carbon) is referred to by the index 0."
   ]
  },
  {
   "cell_type": "markdown",
   "metadata": {},
   "source": [
    "## ASE and `quippy`"
   ]
  },
  {
   "cell_type": "markdown",
   "metadata": {},
   "source": [
    "If you've read some of the documentation, you may be aware of the following alternative method for getting the distance between the two atoms:"
   ]
  },
  {
   "cell_type": "code",
   "execution_count": 31,
   "metadata": {
    "collapsed": false,
    "scrolled": false
   },
   "outputs": [
    {
     "data": {
      "text/plain": [
       "0.0"
      ]
     },
     "execution_count": 31,
     "metadata": {},
     "output_type": "execute_result"
    }
   ],
   "source": [
    "struct.distance_min_image(0, 1)"
   ]
  },
  {
   "cell_type": "markdown",
   "metadata": {},
   "source": [
    "DANGER WILL ROBINSON!  As you may have noticed, this isn't the correct bond distance.  In some circumstances the code may even just crash.  This is because the above function is derived from the underlying Fortran code, QUIP, rather than the `get_distance` function from before, which came from ASE.  The QUIP-derived functions can be very useful, but for now it'll just be too confusing to use them - let's stick with ASE."
   ]
  },
  {
   "cell_type": "markdown",
   "metadata": {},
   "source": [
    "So how do we tell whether a function is derived from QUIP or from ASE?  Well, let's take a look at this function's help message:"
   ]
  },
  {
   "cell_type": "code",
   "execution_count": 32,
   "metadata": {
    "collapsed": false,
    "scrolled": true
   },
   "outputs": [
    {
     "name": "stdout",
     "output_type": "stream",
     "text": [
      "Help on method <lambda> in module quippy._atoms:\n",
      "\n",
      "<lambda> lambda self, *args, **kwargs method of quippy.atoms.Atoms instance\n",
      "    This interface calculates the distance between the nearest periodic images of two points (or atoms).\n",
      "     Return minimum image distance between two atoms or positions.\n",
      "     End points can be specified by any combination of atoms indices\n",
      "     'i' and 'j' and absolute coordinates 'u' and 'w'. If 'shift' is\n",
      "     present the periodic shift between the two atoms or points will\n",
      "     be returned in it.\n",
      "    \n",
      "    Wrapper around Fortran interface ``distance_min_image`` containing multiple routines:\n",
      "    \n",
      "       .. function :: distance_min_image(v,w,[shift])\n",
      "          \n",
      "          :param v: \n",
      "          :type v:  input rank-1 array('d') with bounds (3)\n",
      "          :param w: \n",
      "          :type w:  input rank-1 array('d') with bounds (3)\n",
      "          :param shift: \n",
      "          :type shift:  in/output rank-1 array('i') with bounds (3), optional\n",
      "          \n",
      "          :returns: **ret_distance8_vec_vec** --  float \n",
      "          \n",
      "          \n",
      "          Routine is wrapper around Fortran routine ``distance8_vec_vec`` defined in file :git:`src/libAtoms/Atoms_types.f95`.\n",
      "    \n",
      "       .. function :: distance_min_image(i,j,[shift])\n",
      "          \n",
      "          :param i: \n",
      "          :type i:  input int\n",
      "          :param j: \n",
      "          :type j:  input int\n",
      "          :param shift: \n",
      "          :type shift:  in/output rank-1 array('i') with bounds (3), optional\n",
      "          \n",
      "          :returns: **ret_distance8_atom_atom** --  float \n",
      "          \n",
      "          \n",
      "          Routine is wrapper around Fortran routine ``distance8_atom_atom`` defined in file :git:`src/libAtoms/Atoms_types.f95`.\n",
      "    \n",
      "       .. function :: distance_min_image(i,v,[shift])\n",
      "          \n",
      "          :param i: \n",
      "          :type i:  input int\n",
      "          :param v: \n",
      "          :type v:  input rank-1 array('d') with bounds (3)\n",
      "          :param shift: \n",
      "          :type shift:  in/output rank-1 array('i') with bounds (3), optional\n",
      "          \n",
      "          :returns: **ret_distance8_atom_vec** --  float \n",
      "          \n",
      "          \n",
      "          Routine is wrapper around Fortran routine ``distance8_atom_vec`` defined in file :git:`src/libAtoms/Atoms_types.f95`.\n",
      "    \n",
      "       .. function :: distance_min_image(v,j,[shift])\n",
      "          \n",
      "          :param v: \n",
      "          :type v:  input rank-1 array('d') with bounds (3)\n",
      "          :param j: \n",
      "          :type j:  input int\n",
      "          :param shift: \n",
      "          :type shift:  in/output rank-1 array('i') with bounds (3), optional\n",
      "          \n",
      "          :returns: **ret_distance8_vec_atom** --  float \n",
      "          \n",
      "          \n",
      "          Routine is wrapper around Fortran routine ``distance8_vec_atom`` defined in file :git:`src/libAtoms/Atoms_types.f95`.\n",
      "\n"
     ]
    }
   ],
   "source": [
    "help(struct.distance_min_image)"
   ]
  },
  {
   "cell_type": "markdown",
   "metadata": {},
   "source": [
    "A bit confusing, yes, but take a look at the final line:\n",
    "\n",
    "          Routine is wrapper around Fortran routine ``distance8_vec_atom`` defined in file :git:`src/libAtoms/Atoms_types.f95`.\n",
    "          \n",
    "It says this function is a _wrapper_ around something in the Fortran code, which means it's from QUIP and only works with _one-based_ indices (i.e. to this function, the first atom has the index 1)."
   ]
  },
  {
   "cell_type": "code",
   "execution_count": 33,
   "metadata": {
    "collapsed": false
   },
   "outputs": [
    {
     "data": {
      "text/plain": [
       "1.07"
      ]
     },
     "execution_count": 33,
     "metadata": {},
     "output_type": "execute_result"
    }
   ],
   "source": [
    "struct.distance_min_image(1, 2)"
   ]
  },
  {
   "cell_type": "markdown",
   "metadata": {},
   "source": [
    "Whereas the ASE function has a different help string:"
   ]
  },
  {
   "cell_type": "code",
   "execution_count": 34,
   "metadata": {
    "collapsed": false
   },
   "outputs": [
    {
     "name": "stdout",
     "output_type": "stream",
     "text": [
      "Help on method get_distance in module ase.atoms:\n",
      "\n",
      "get_distance(self, a0, a1, mic=False, vector=False) method of quippy.atoms.Atoms instance\n",
      "    Return distance between two atoms.\n",
      "    \n",
      "    Use mic=True to use the Minimum Image Convention.\n",
      "    vector=True gives the distance vector (from a0 to a1).\n",
      "\n"
     ]
    }
   ],
   "source": [
    "help(struct.get_distance)"
   ]
  },
  {
   "cell_type": "markdown",
   "metadata": {},
   "source": [
    "See that part, '`in module ase.atoms`'?  That means this function comes from ASE and works with zero-based indices.\n",
    "\n",
    "You should _always_ do this check before using any `Atoms` function you're not yet familiar with."
   ]
  },
  {
   "cell_type": "markdown",
   "metadata": {},
   "source": [
    "### Useful QUIP equivalents"
   ]
  },
  {
   "cell_type": "markdown",
   "metadata": {},
   "source": [
    "Just in case you ever want to work with the Fortran QUIP routines, here are some equivalents of the queries we've seen above:"
   ]
  },
  {
   "cell_type": "code",
   "execution_count": 35,
   "metadata": {
    "collapsed": false
   },
   "outputs": [
    {
     "data": {
      "text/plain": [
       "[1.07, 1.0699965409757173, 1.0700018621479124, 1.070003840600584]"
      ]
     },
     "execution_count": 35,
     "metadata": {},
     "output_type": "execute_result"
    }
   ],
   "source": [
    "[struct.distance_min_image(1, i) for i in range(2, 6)]"
   ]
  },
  {
   "cell_type": "code",
   "execution_count": 36,
   "metadata": {
    "collapsed": false
   },
   "outputs": [
    {
     "name": "stdout",
     "output_type": "stream",
     "text": [
      "-0.333328180365\n",
      "109.470907482\n"
     ]
    }
   ],
   "source": [
    "print(struct.cosine(1, 2, 3))\n",
    "print(np.arccos(struct.cosine(1, 2, 3)) * 180 / np.pi)"
   ]
  },
  {
   "cell_type": "markdown",
   "metadata": {},
   "source": [
    "Note that the _order_ of the arguments in `Atoms.cosine` is different as well: The central atom index is now the first argument."
   ]
  },
  {
   "cell_type": "markdown",
   "metadata": {},
   "source": [
    "The properties can also be accessed as one-based arrays (called `FortranArray`s).  Note that these are also the _transpose_ of the ASE arrays, so the row and column indices are swapped."
   ]
  },
  {
   "cell_type": "code",
   "execution_count": 37,
   "metadata": {
    "collapsed": false
   },
   "outputs": [
    {
     "data": {
      "text/plain": [
       "FortranArray([[ 0.     ,  0.     ,  0.62414, -0.99844,  0.3743 ],\n",
       "              [ 0.     ,  0.     ,  0.79255,  0.14425, -0.9368 ],\n",
       "              [ 0.     ,  1.07   , -0.35666, -0.35667, -0.35667]])"
      ]
     },
     "execution_count": 37,
     "metadata": {},
     "output_type": "execute_result"
    }
   ],
   "source": [
    "struct.pos"
   ]
  },
  {
   "cell_type": "code",
   "execution_count": 38,
   "metadata": {
    "collapsed": false
   },
   "outputs": [
    {
     "data": {
      "text/plain": [
       "FortranArray([[ 10.,   0.,   0.],\n",
       "              [  0.,  10.,   0.],\n",
       "              [  0.,   0.,  10.]])"
      ]
     },
     "execution_count": 38,
     "metadata": {},
     "output_type": "execute_result"
    }
   ],
   "source": [
    "struct.lattice"
   ]
  },
  {
   "cell_type": "code",
   "execution_count": 39,
   "metadata": {
    "collapsed": false,
    "scrolled": true
   },
   "outputs": [
    {
     "data": {
      "text/plain": [
       "FortranArray([6, 1, 1, 1, 1], dtype=int32)"
      ]
     },
     "execution_count": 39,
     "metadata": {},
     "output_type": "execute_result"
    }
   ],
   "source": [
    "struct.Z"
   ]
  },
  {
   "cell_type": "markdown",
   "metadata": {},
   "source": [
    "## Changing `Atoms`"
   ]
  },
  {
   "cell_type": "markdown",
   "metadata": {},
   "source": [
    "There's a more complete tutorial on manipulating Atoms objects in ASE at [the ASE website](https://wiki.fysik.dtu.dk/ase/tutorials/manipulating_atoms.html); this is a shorter example just to get you started."
   ]
  },
  {
   "cell_type": "markdown",
   "metadata": {},
   "source": [
    "First, let's try reorienting our methane molecule in space.  The first hydrogen atom is already oriented along the Z axis; let's try to rotate the molecule so that the second one points along the X axis."
   ]
  },
  {
   "cell_type": "code",
   "execution_count": 40,
   "metadata": {
    "collapsed": false
   },
   "outputs": [
    {
     "data": {
      "text/plain": [
       "0.90371859179284519"
      ]
     },
     "execution_count": 40,
     "metadata": {},
     "output_type": "execute_result"
    }
   ],
   "source": [
    "r_h2 = struct.get_distance(0, 2, vector=True)\n",
    "r_h2[2] = 0.0\n",
    "np.arccos(r_h2[0] / np.linalg.norm(r_h2))"
   ]
  },
  {
   "cell_type": "markdown",
   "metadata": {},
   "source": [
    "So we need to rotate it by about -0.9 radians about the Z axis."
   ]
  },
  {
   "cell_type": "markdown",
   "metadata": {},
   "source": [
    "But first, we want to keep the old methane molecule for comparison.  Let's copy it - note that this must be done _explicitly_; the Python assignment operator (`=`) only assigns a new _reference_ to the underlying object!  This can be one of the hardest things to understand for programmers coming from a different language, so make sure to read up on Python references and do some of their tutorials if you find this distinction confusing."
   ]
  },
  {
   "cell_type": "code",
   "execution_count": 42,
   "metadata": {
    "collapsed": false
   },
   "outputs": [
    {
     "ename": "KeyError",
     "evalue": "'Key \"adsorbate_info\" not found '",
     "output_type": "error",
     "traceback": [
      "\u001b[1;31m---------------------------------------------------------------------------\u001b[0m",
      "\u001b[1;31mKeyError\u001b[0m                                  Traceback (most recent call last)",
      "\u001b[1;32m<ipython-input-42-2ee3101f5e0f>\u001b[0m in \u001b[0;36m<module>\u001b[1;34m()\u001b[0m\n\u001b[1;32m----> 1\u001b[1;33m \u001b[0mstruct_old\u001b[0m \u001b[1;33m=\u001b[0m \u001b[0mstruct\u001b[0m\u001b[1;33m.\u001b[0m\u001b[0mcopy\u001b[0m\u001b[1;33m(\u001b[0m\u001b[1;33m)\u001b[0m\u001b[1;33m\u001b[0m\u001b[0m\n\u001b[0m",
      "\u001b[1;32m/home/max/python-envs/quippy/lib/python2.7/site-packages/quippy/atoms.pyc\u001b[0m in \u001b[0;36mcopy\u001b[1;34m(self)\u001b[0m\n\u001b[0;32m    706\u001b[0m         \u001b[1;31m# from ase.Atoms\u001b[0m\u001b[1;33m\u001b[0m\u001b[1;33m\u001b[0m\u001b[0m\n\u001b[0;32m    707\u001b[0m         \u001b[0mother\u001b[0m\u001b[1;33m.\u001b[0m\u001b[0mconstraints\u001b[0m \u001b[1;33m=\u001b[0m \u001b[0mcopy\u001b[0m\u001b[1;33m.\u001b[0m\u001b[0mdeepcopy\u001b[0m\u001b[1;33m(\u001b[0m\u001b[0mself\u001b[0m\u001b[1;33m.\u001b[0m\u001b[0mconstraints\u001b[0m\u001b[1;33m)\u001b[0m\u001b[1;33m\u001b[0m\u001b[0m\n\u001b[1;32m--> 708\u001b[1;33m         \u001b[0mother\u001b[0m\u001b[1;33m.\u001b[0m\u001b[0madsorbate_info\u001b[0m \u001b[1;33m=\u001b[0m \u001b[0mcopy\u001b[0m\u001b[1;33m.\u001b[0m\u001b[0mdeepcopy\u001b[0m\u001b[1;33m(\u001b[0m\u001b[0mself\u001b[0m\u001b[1;33m.\u001b[0m\u001b[0madsorbate_info\u001b[0m\u001b[1;33m)\u001b[0m\u001b[1;33m\u001b[0m\u001b[0m\n\u001b[0m\u001b[0;32m    709\u001b[0m         \u001b[1;32mreturn\u001b[0m \u001b[0mother\u001b[0m\u001b[1;33m\u001b[0m\u001b[0m\n\u001b[0;32m    710\u001b[0m \u001b[1;33m\u001b[0m\u001b[0m\n",
      "\u001b[1;32m/home/max/python-envs/quippy/lib/python2.7/site-packages/ase/atoms.pyc\u001b[0m in \u001b[0;36madsorbate_info\u001b[1;34m(self)\u001b[0m\n\u001b[0;32m   1654\u001b[0m                       \u001b[1;34m\" inside the info dictionary, i.e. atoms.\"\u001b[0m \u001b[1;33m+\u001b[0m\u001b[1;33m\u001b[0m\u001b[0m\n\u001b[0;32m   1655\u001b[0m                       \"info['adsorbate_info']\", FutureWarning)\n\u001b[1;32m-> 1656\u001b[1;33m         \u001b[1;32mreturn\u001b[0m \u001b[0mself\u001b[0m\u001b[1;33m.\u001b[0m\u001b[0minfo\u001b[0m\u001b[1;33m[\u001b[0m\u001b[1;34m'adsorbate_info'\u001b[0m\u001b[1;33m]\u001b[0m\u001b[1;33m\u001b[0m\u001b[0m\n\u001b[0m\u001b[0;32m   1657\u001b[0m \u001b[1;33m\u001b[0m\u001b[0m\n\u001b[0;32m   1658\u001b[0m     \u001b[1;33m@\u001b[0m\u001b[0madsorbate_info\u001b[0m\u001b[1;33m.\u001b[0m\u001b[0msetter\u001b[0m\u001b[1;33m\u001b[0m\u001b[0m\n",
      "\u001b[1;32m/home/max/python-envs/quippy/lib/python2.7/site-packages/quippy/dictionary.pyc\u001b[0m in \u001b[0;36m__getitem__\u001b[1;34m(self, k)\u001b[0m\n\u001b[0;32m    199\u001b[0m         \u001b[1;32mexcept\u001b[0m \u001b[0mKeyError\u001b[0m\u001b[1;33m:\u001b[0m\u001b[1;33m\u001b[0m\u001b[0m\n\u001b[0;32m    200\u001b[0m             \u001b[1;32mif\u001b[0m \u001b[1;32mnot\u001b[0m \u001b[0mk\u001b[0m \u001b[1;32min\u001b[0m \u001b[0mself\u001b[0m\u001b[1;33m:\u001b[0m\u001b[1;33m\u001b[0m\u001b[0m\n\u001b[1;32m--> 201\u001b[1;33m                 \u001b[1;32mraise\u001b[0m \u001b[0mKeyError\u001b[0m\u001b[1;33m(\u001b[0m\u001b[1;34m'Key \"%s\" not found '\u001b[0m \u001b[1;33m%\u001b[0m \u001b[0mk\u001b[0m\u001b[1;33m)\u001b[0m\u001b[1;33m\u001b[0m\u001b[0m\n\u001b[0m\u001b[0;32m    202\u001b[0m \u001b[1;33m\u001b[0m\u001b[0m\n\u001b[0;32m    203\u001b[0m             \u001b[0mt\u001b[0m \u001b[1;33m=\u001b[0m \u001b[0mself\u001b[0m\u001b[1;33m.\u001b[0m\u001b[0mget_type_and_size\u001b[0m\u001b[1;33m(\u001b[0m\u001b[0mk\u001b[0m\u001b[1;33m)\u001b[0m\u001b[1;33m[\u001b[0m\u001b[1;36m0\u001b[0m\u001b[1;33m]\u001b[0m\u001b[1;33m\u001b[0m\u001b[0m\n",
      "\u001b[1;31mKeyError\u001b[0m: 'Key \"adsorbate_info\" not found '"
     ]
    }
   ],
   "source": [
    "struct_old = struct.copy()"
   ]
  },
  {
   "cell_type": "code",
   "execution_count": 43,
   "metadata": {
    "collapsed": true
   },
   "outputs": [],
   "source": [
    "struct.rotate([0.0, 0.0, 1.0], -1.0 * np.arccos(r_h2[0] / np.linalg.norm(r_h2)))"
   ]
  },
  {
   "cell_type": "code",
   "execution_count": 44,
   "metadata": {
    "collapsed": false
   },
   "outputs": [
    {
     "data": {
      "text/plain": [
       "array([[  0.00000000e+00,   0.00000000e+00,   0.00000000e+00],\n",
       "       [  0.00000000e+00,   0.00000000e+00,   1.07000000e+00],\n",
       "       [  1.00880436e+00,  -1.11022302e-16,  -3.56660000e-01],\n",
       "       [ -5.04400083e-01,   8.73653852e-01,  -3.56670000e-01],\n",
       "       [ -5.04404280e-01,  -8.73653852e-01,  -3.56670000e-01]])"
      ]
     },
     "execution_count": 44,
     "metadata": {},
     "output_type": "execute_result"
    }
   ],
   "source": [
    "struct.get_positions()"
   ]
  },
  {
   "cell_type": "markdown",
   "metadata": {},
   "source": [
    "Exercise: Now compare the positions of the rotated structure with those of the new structure; you may want to compute the RMS difference."
   ]
  },
  {
   "cell_type": "markdown",
   "metadata": {},
   "source": [
    "Now change the cell and make a supercell"
   ]
  },
  {
   "cell_type": "markdown",
   "metadata": {},
   "source": [
    "## Generating structures from scratch"
   ]
  },
  {
   "cell_type": "markdown",
   "metadata": {},
   "source": [
    "We could have also just used ASE functionality to pull a methane structure from its database:"
   ]
  },
  {
   "cell_type": "code",
   "execution_count": 45,
   "metadata": {
    "collapsed": true
   },
   "outputs": [],
   "source": [
    "import ase\n",
    "from ase.build import molecule"
   ]
  },
  {
   "cell_type": "code",
   "execution_count": 46,
   "metadata": {
    "collapsed": true
   },
   "outputs": [],
   "source": [
    "me = molecule('CH4')"
   ]
  },
  {
   "cell_type": "code",
   "execution_count": 47,
   "metadata": {
    "collapsed": false
   },
   "outputs": [
    {
     "data": {
      "text/plain": [
       "array([[ 0.      ,  0.      ,  0.      ],\n",
       "       [ 0.629118,  0.629118,  0.629118],\n",
       "       [-0.629118, -0.629118,  0.629118],\n",
       "       [ 0.629118, -0.629118, -0.629118],\n",
       "       [-0.629118,  0.629118, -0.629118]])"
      ]
     },
     "execution_count": 47,
     "metadata": {},
     "output_type": "execute_result"
    }
   ],
   "source": [
    "me.get_positions()"
   ]
  },
  {
   "cell_type": "markdown",
   "metadata": {},
   "source": [
    "Like the introductory tutorial at http://libatoms.github.io/QUIP/tutorial.html - use the `diamond` generator, view a supercell, do fun things with the structure..."
   ]
  },
  {
   "cell_type": "markdown",
   "metadata": {},
   "source": [
    "## Computing the energy"
   ]
  },
  {
   "cell_type": "markdown",
   "metadata": {},
   "source": [
    "Introduce `Potential`.  Use something like `IP SW` to get the energy of the silicon supercell.  Direct user to the list of potentials and the next tutorial."
   ]
  },
  {
   "cell_type": "code",
   "execution_count": null,
   "metadata": {
    "collapsed": true
   },
   "outputs": [],
   "source": []
  }
 ],
 "metadata": {
  "kernelspec": {
   "display_name": "Python 2",
   "language": "python",
   "name": "python2"
  },
  "language_info": {
   "codemirror_mode": {
    "name": "ipython",
    "version": 2
   },
   "file_extension": ".py",
   "mimetype": "text/x-python",
   "name": "python",
   "nbconvert_exporter": "python",
   "pygments_lexer": "ipython2",
   "version": "2.7.12"
  }
 },
 "nbformat": 4,
 "nbformat_minor": 0
}
