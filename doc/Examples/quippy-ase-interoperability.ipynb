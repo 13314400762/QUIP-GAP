{
 "cells": [
  {
   "cell_type": "markdown",
   "metadata": {},
   "source": [
    "# Interoperability with Atomic Simulation Environment\n",
    "\n",
    "\\[[Download IPython notebook](quippy-ase-interoperability.ipynb)\\]\n",
    "\n",
    "- quippy `Potential` objects can be used as ASE calculators, and vice-versa\n",
    "- quippy `Atoms` object is interoperable with ASE `Atoms`\n",
    "- Can use standard ASE tools, plus communicate with other packages using ASE as *lingua franca*\n",
    "\n",
    "## Example: vacancy formation energy\n",
    "\n",
    "- Generate structure with `ASE` lattice tools\n",
    "- Stillinger-Weber potential implementation from `QUIP`\n",
    "- Elastic constant fitting routine from `matscipy`, internal relaxations with `ASE` FIRE minimiser"
   ]
  },
  {
   "cell_type": "code",
   "execution_count": 2,
   "metadata": {
    "collapsed": false
   },
   "outputs": [
    {
     "name": "stdout",
     "output_type": "stream",
     "text": [
      "Populating the interactive namespace from numpy and matplotlib\n",
      "FIRE:   0  16:46:29      -34.635777       0.3247\n",
      "FIRE:   1  16:46:29      -34.642625       0.2026\n",
      "FIRE:   2  16:46:29      -34.646995       0.0046\n",
      "FIRE:   0  16:46:29      -34.670667       0.1584\n",
      "FIRE:   1  16:46:29      -34.672303       0.0999\n",
      "FIRE:   2  16:46:29      -34.673382       0.0046\n",
      "FIRE:   0  16:46:29      -34.678737       0.0000\n",
      "FIRE:   0  16:46:30      -34.660845       0.1508\n",
      "FIRE:   1  16:46:30      -34.662341       0.0972\n",
      "FIRE:   2  16:46:30      -34.663394       0.0090\n",
      "FIRE:   0  16:46:30      -34.617822       0.2945\n",
      "FIRE:   1  16:46:30      -34.623549       0.1917\n",
      "FIRE:   2  16:46:30      -34.627707       0.0221\n"
     ]
    },
    {
     "name": "stderr",
     "output_type": "stream",
     "text": [
      "WARNING:quippy.potential:Minim atoms is not quippy.Atoms instance, copy forced!\n"
     ]
    },
    {
     "name": "stdout",
     "output_type": "stream",
     "text": [
      "Fitting C_11\n",
      "Strain array([-0.02, -0.01,  0.  ,  0.01,  0.02])\n",
      "Stress array([-2.56097831, -1.01273539,  0.50274262,  1.98320624,  3.42678574]) GPa\n",
      "Cij (gradient) / GPa    :     149.71469724\n",
      "Error in Cij / GPa      :     1.19250048299\n",
      "Correlation coefficient :     0.999904848087\n",
      "Setting C11 (1) to 0.934445 +/- 0.007443\n",
      "\n",
      "\n",
      "Fitting C_21\n",
      "Strain array([-0.02, -0.01,  0.  ,  0.01,  0.02])\n",
      "Stress array([-1.07665437, -0.26645138,  0.50274262,  1.23340444,  1.92788311]) GPa\n",
      "Cij (gradient) / GPa    :     75.089307818\n",
      "Error in Cij / GPa      :     1.31766617387\n",
      "Correlation coefficient :     0.999538422023\n",
      "Setting C21 (7) to 0.468670 +/- 0.008224\n",
      "\n",
      "\n",
      "Fitting C_31\n",
      "Strain array([-0.02, -0.01,  0.  ,  0.01,  0.02])\n",
      "Stress array([-1.07665437, -0.26645138,  0.50274262,  1.23340444,  1.92788311]) GPa\n",
      "Cij (gradient) / GPa    :     75.089307818\n",
      "Error in Cij / GPa      :     1.31766617387\n",
      "Correlation coefficient :     0.999538422023\n",
      "Updating C31 (7) with value 0.468670 +/- 0.008224\n",
      "\n",
      "\n",
      "Fitting C_44\n",
      "Strain array([-0.02, -0.01,  0.  ,  0.01,  0.02])\n",
      "Stress array([ -1.15146019e+00,  -5.81643336e-01,  -9.46073107e-15,\n",
      "         5.90131723e-01,   1.18570468e+00]) GPa\n",
      "Cij (gradient) / GPa    :     58.4610478426\n",
      "Error in Cij / GPa      :     0.295085476952\n",
      "Correlation coefficient :     0.999961785442\n",
      "Setting C44 (4) to 0.364885 +/- 0.001842\n",
      "\n",
      "\n",
      "[[ C11  C12  C12               ]\n",
      " [ C12  C11  C12               ]\n",
      " [ C12  C12  C11               ]\n",
      " [                C44          ]\n",
      " [                     C44     ]\n",
      " [                          C44]]\n",
      "\n",
      " = \n",
      "\n",
      "[[ 149.71   75.09   75.09    0.      0.      0.  ]\n",
      " [  75.09  149.71   75.09    0.      0.      0.  ]\n",
      " [  75.09   75.09  149.71    0.      0.      0.  ]\n",
      " [   0.      0.      0.     58.46    0.      0.  ]\n",
      " [   0.      0.      0.      0.     58.46    0.  ]\n",
      " [   0.      0.      0.      0.      0.     58.46]]\n",
      "C_11 = 149.71 +/- 1.19 GPa\n",
      "C_12 = 75.09 +/- 1.32 GPa\n",
      "C_44 = 58.46 +/- 0.30 GPa\n",
      "SW vacancy formation energy 4.30106655261 eV\n"
     ]
    }
   ],
   "source": [
    "%pylab inline\n",
    "from ase.lattice import bulk\n",
    "from ase.optimize import FIRE\n",
    "from quippy.potential import Potential\n",
    "from quippy.potential import Minim\n",
    "\n",
    "si = bulk('Si', a=5.44, cubic=True)\n",
    "sw_pot = Potential('IP SW') # call into Fortran code\n",
    "si.set_calculator(sw_pot)\n",
    "e_bulk_per_atom = si.get_potential_energy()/len(si)\n",
    "\n",
    "# call general purpose elastic constants calculator \n",
    "#   using ASE Atoms and QUIP Potential\n",
    "from matscipy.elasticity import fit_elastic_constants\n",
    "Cij = fit_elastic_constants(si, optimizer=FIRE, \n",
    "                            symmetry='cubic', logfile='-')\n",
    "vac1 = si.copy()\n",
    "vac1 *= (3, 3, 3)\n",
    "half_cell = np.diag(vac1.cell)/2.\n",
    "vac_atom = ((vac1.positions - half_cell)**2).sum(axis=1).argmin()\n",
    "del vac1[vac_atom]\n",
    "\n",
    "vac1.set_calculator(sw_pot)\n",
    "vac1.rattle(0.01)\n",
    "opt = Minim(vac1, method='cg_n') # big cell, use Fortran minimiser\n",
    "opt.run(fmax=1e-6)\n",
    "e_vac = vac1.get_potential_energy() - e_bulk_per_atom*len(vac1)\n",
    "print 'SW vacancy formation energy', e_vac, 'eV'"
   ]
  }
 ],
 "metadata": {
  "kernelspec": {
   "display_name": "Python 2",
   "language": "python",
   "name": "python2"
  },
  "language_info": {
   "codemirror_mode": {
    "name": "ipython",
    "version": 2
   },
   "file_extension": ".py",
   "mimetype": "text/x-python",
   "name": "python",
   "nbconvert_exporter": "python",
   "pygments_lexer": "ipython2",
   "version": "2.7.9"
  }
 },
 "nbformat": 4,
 "nbformat_minor": 0
}
